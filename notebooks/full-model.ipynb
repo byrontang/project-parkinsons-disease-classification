{
 "cells": [
  {
   "cell_type": "markdown",
   "metadata": {},
   "source": [
    "# Predicting Parkinson's Disease\n",
    "This notebook uses the dataset from [UCI Machine Learning Repository](http://archive.ics.uci.edu/ml/datasets/Parkinson%27s+Disease+Classification) and classification models to predict whether a patient has Parkinson's Disease, with a focus on Logistic Regression."
   ]
  },
  {
   "cell_type": "code",
   "execution_count": 1,
   "metadata": {
    "collapsed": true
   },
   "outputs": [],
   "source": [
    "%matplotlib inline\n",
    "import numpy as np\n",
    "import pandas as pd\n",
    "import matplotlib.pyplot as plt"
   ]
  },
  {
   "cell_type": "markdown",
   "metadata": {},
   "source": [
    "## Data Preparation"
   ]
  },
  {
   "cell_type": "code",
   "execution_count": 2,
   "metadata": {
    "collapsed": true
   },
   "outputs": [],
   "source": [
    "df = pd.read_csv('C:/Users/byron/Documents/GitHub/project-parkinsons-disease-classification/data/pd_speech_features.csv', \n",
    "                 header=1)"
   ]
  },
  {
   "cell_type": "code",
   "execution_count": 3,
   "metadata": {},
   "outputs": [
    {
     "data": {
      "text/plain": [
       "(756, 755)"
      ]
     },
     "execution_count": 3,
     "metadata": {},
     "output_type": "execute_result"
    }
   ],
   "source": [
    "df.shape"
   ]
  },
  {
   "cell_type": "code",
   "execution_count": 4,
   "metadata": {},
   "outputs": [
    {
     "data": {
      "text/html": [
       "<div>\n",
       "<style>\n",
       "    .dataframe thead tr:only-child th {\n",
       "        text-align: right;\n",
       "    }\n",
       "\n",
       "    .dataframe thead th {\n",
       "        text-align: left;\n",
       "    }\n",
       "\n",
       "    .dataframe tbody tr th {\n",
       "        vertical-align: top;\n",
       "    }\n",
       "</style>\n",
       "<table border=\"1\" class=\"dataframe\">\n",
       "  <thead>\n",
       "    <tr style=\"text-align: right;\">\n",
       "      <th></th>\n",
       "      <th>id</th>\n",
       "      <th>gender</th>\n",
       "      <th>PPE</th>\n",
       "      <th>DFA</th>\n",
       "      <th>RPDE</th>\n",
       "      <th>numPulses</th>\n",
       "      <th>numPeriodsPulses</th>\n",
       "      <th>meanPeriodPulses</th>\n",
       "      <th>stdDevPeriodPulses</th>\n",
       "      <th>locPctJitter</th>\n",
       "      <th>...</th>\n",
       "      <th>tqwt_kurtosisValue_dec_28</th>\n",
       "      <th>tqwt_kurtosisValue_dec_29</th>\n",
       "      <th>tqwt_kurtosisValue_dec_30</th>\n",
       "      <th>tqwt_kurtosisValue_dec_31</th>\n",
       "      <th>tqwt_kurtosisValue_dec_32</th>\n",
       "      <th>tqwt_kurtosisValue_dec_33</th>\n",
       "      <th>tqwt_kurtosisValue_dec_34</th>\n",
       "      <th>tqwt_kurtosisValue_dec_35</th>\n",
       "      <th>tqwt_kurtosisValue_dec_36</th>\n",
       "      <th>class</th>\n",
       "    </tr>\n",
       "  </thead>\n",
       "  <tbody>\n",
       "    <tr>\n",
       "      <th>0</th>\n",
       "      <td>0</td>\n",
       "      <td>1</td>\n",
       "      <td>0.85247</td>\n",
       "      <td>0.71826</td>\n",
       "      <td>0.57227</td>\n",
       "      <td>240</td>\n",
       "      <td>239</td>\n",
       "      <td>0.008064</td>\n",
       "      <td>0.000087</td>\n",
       "      <td>0.00218</td>\n",
       "      <td>...</td>\n",
       "      <td>1.5620</td>\n",
       "      <td>2.6445</td>\n",
       "      <td>3.8686</td>\n",
       "      <td>4.2105</td>\n",
       "      <td>5.1221</td>\n",
       "      <td>4.4625</td>\n",
       "      <td>2.6202</td>\n",
       "      <td>3.0004</td>\n",
       "      <td>18.9405</td>\n",
       "      <td>1</td>\n",
       "    </tr>\n",
       "    <tr>\n",
       "      <th>1</th>\n",
       "      <td>0</td>\n",
       "      <td>1</td>\n",
       "      <td>0.76686</td>\n",
       "      <td>0.69481</td>\n",
       "      <td>0.53966</td>\n",
       "      <td>234</td>\n",
       "      <td>233</td>\n",
       "      <td>0.008258</td>\n",
       "      <td>0.000073</td>\n",
       "      <td>0.00195</td>\n",
       "      <td>...</td>\n",
       "      <td>1.5589</td>\n",
       "      <td>3.6107</td>\n",
       "      <td>23.5155</td>\n",
       "      <td>14.1962</td>\n",
       "      <td>11.0261</td>\n",
       "      <td>9.5082</td>\n",
       "      <td>6.5245</td>\n",
       "      <td>6.3431</td>\n",
       "      <td>45.1780</td>\n",
       "      <td>1</td>\n",
       "    </tr>\n",
       "    <tr>\n",
       "      <th>2</th>\n",
       "      <td>0</td>\n",
       "      <td>1</td>\n",
       "      <td>0.85083</td>\n",
       "      <td>0.67604</td>\n",
       "      <td>0.58982</td>\n",
       "      <td>232</td>\n",
       "      <td>231</td>\n",
       "      <td>0.008340</td>\n",
       "      <td>0.000060</td>\n",
       "      <td>0.00176</td>\n",
       "      <td>...</td>\n",
       "      <td>1.5643</td>\n",
       "      <td>2.3308</td>\n",
       "      <td>9.4959</td>\n",
       "      <td>10.7458</td>\n",
       "      <td>11.0177</td>\n",
       "      <td>4.8066</td>\n",
       "      <td>2.9199</td>\n",
       "      <td>3.1495</td>\n",
       "      <td>4.7666</td>\n",
       "      <td>1</td>\n",
       "    </tr>\n",
       "    <tr>\n",
       "      <th>3</th>\n",
       "      <td>1</td>\n",
       "      <td>0</td>\n",
       "      <td>0.41121</td>\n",
       "      <td>0.79672</td>\n",
       "      <td>0.59257</td>\n",
       "      <td>178</td>\n",
       "      <td>177</td>\n",
       "      <td>0.010858</td>\n",
       "      <td>0.000183</td>\n",
       "      <td>0.00419</td>\n",
       "      <td>...</td>\n",
       "      <td>3.7805</td>\n",
       "      <td>3.5664</td>\n",
       "      <td>5.2558</td>\n",
       "      <td>14.0403</td>\n",
       "      <td>4.2235</td>\n",
       "      <td>4.6857</td>\n",
       "      <td>4.8460</td>\n",
       "      <td>6.2650</td>\n",
       "      <td>4.0603</td>\n",
       "      <td>1</td>\n",
       "    </tr>\n",
       "    <tr>\n",
       "      <th>4</th>\n",
       "      <td>1</td>\n",
       "      <td>0</td>\n",
       "      <td>0.32790</td>\n",
       "      <td>0.79782</td>\n",
       "      <td>0.53028</td>\n",
       "      <td>236</td>\n",
       "      <td>235</td>\n",
       "      <td>0.008162</td>\n",
       "      <td>0.002669</td>\n",
       "      <td>0.00535</td>\n",
       "      <td>...</td>\n",
       "      <td>6.1727</td>\n",
       "      <td>5.8416</td>\n",
       "      <td>6.0805</td>\n",
       "      <td>5.7621</td>\n",
       "      <td>7.7817</td>\n",
       "      <td>11.6891</td>\n",
       "      <td>8.2103</td>\n",
       "      <td>5.0559</td>\n",
       "      <td>6.1164</td>\n",
       "      <td>1</td>\n",
       "    </tr>\n",
       "    <tr>\n",
       "      <th>5</th>\n",
       "      <td>1</td>\n",
       "      <td>0</td>\n",
       "      <td>0.50780</td>\n",
       "      <td>0.78744</td>\n",
       "      <td>0.65451</td>\n",
       "      <td>226</td>\n",
       "      <td>221</td>\n",
       "      <td>0.007631</td>\n",
       "      <td>0.002696</td>\n",
       "      <td>0.00783</td>\n",
       "      <td>...</td>\n",
       "      <td>4.8025</td>\n",
       "      <td>5.0734</td>\n",
       "      <td>7.0166</td>\n",
       "      <td>5.9966</td>\n",
       "      <td>5.2065</td>\n",
       "      <td>7.4246</td>\n",
       "      <td>3.4153</td>\n",
       "      <td>3.5046</td>\n",
       "      <td>3.2250</td>\n",
       "      <td>1</td>\n",
       "    </tr>\n",
       "    <tr>\n",
       "      <th>6</th>\n",
       "      <td>2</td>\n",
       "      <td>1</td>\n",
       "      <td>0.76095</td>\n",
       "      <td>0.62145</td>\n",
       "      <td>0.54543</td>\n",
       "      <td>322</td>\n",
       "      <td>321</td>\n",
       "      <td>0.005991</td>\n",
       "      <td>0.000107</td>\n",
       "      <td>0.00222</td>\n",
       "      <td>...</td>\n",
       "      <td>117.2678</td>\n",
       "      <td>75.3156</td>\n",
       "      <td>32.0478</td>\n",
       "      <td>7.7060</td>\n",
       "      <td>3.1060</td>\n",
       "      <td>4.6206</td>\n",
       "      <td>12.8353</td>\n",
       "      <td>13.8300</td>\n",
       "      <td>7.7693</td>\n",
       "      <td>1</td>\n",
       "    </tr>\n",
       "    <tr>\n",
       "      <th>7</th>\n",
       "      <td>2</td>\n",
       "      <td>1</td>\n",
       "      <td>0.83671</td>\n",
       "      <td>0.62079</td>\n",
       "      <td>0.51179</td>\n",
       "      <td>318</td>\n",
       "      <td>317</td>\n",
       "      <td>0.006074</td>\n",
       "      <td>0.000136</td>\n",
       "      <td>0.00282</td>\n",
       "      <td>...</td>\n",
       "      <td>3.8564</td>\n",
       "      <td>11.8909</td>\n",
       "      <td>7.2891</td>\n",
       "      <td>4.3682</td>\n",
       "      <td>3.6443</td>\n",
       "      <td>5.9610</td>\n",
       "      <td>11.7552</td>\n",
       "      <td>18.0927</td>\n",
       "      <td>5.0448</td>\n",
       "      <td>1</td>\n",
       "    </tr>\n",
       "    <tr>\n",
       "      <th>8</th>\n",
       "      <td>2</td>\n",
       "      <td>1</td>\n",
       "      <td>0.80826</td>\n",
       "      <td>0.61766</td>\n",
       "      <td>0.50447</td>\n",
       "      <td>318</td>\n",
       "      <td>317</td>\n",
       "      <td>0.006057</td>\n",
       "      <td>0.000069</td>\n",
       "      <td>0.00161</td>\n",
       "      <td>...</td>\n",
       "      <td>2.2640</td>\n",
       "      <td>6.3993</td>\n",
       "      <td>4.4165</td>\n",
       "      <td>4.2662</td>\n",
       "      <td>3.6357</td>\n",
       "      <td>3.7346</td>\n",
       "      <td>2.9394</td>\n",
       "      <td>3.6216</td>\n",
       "      <td>3.8430</td>\n",
       "      <td>1</td>\n",
       "    </tr>\n",
       "    <tr>\n",
       "      <th>9</th>\n",
       "      <td>3</td>\n",
       "      <td>0</td>\n",
       "      <td>0.85302</td>\n",
       "      <td>0.62247</td>\n",
       "      <td>0.54855</td>\n",
       "      <td>493</td>\n",
       "      <td>492</td>\n",
       "      <td>0.003910</td>\n",
       "      <td>0.000040</td>\n",
       "      <td>0.00075</td>\n",
       "      <td>...</td>\n",
       "      <td>1.6796</td>\n",
       "      <td>2.0474</td>\n",
       "      <td>2.8117</td>\n",
       "      <td>3.5070</td>\n",
       "      <td>3.2727</td>\n",
       "      <td>3.8415</td>\n",
       "      <td>3.9439</td>\n",
       "      <td>5.8807</td>\n",
       "      <td>38.7211</td>\n",
       "      <td>1</td>\n",
       "    </tr>\n",
       "  </tbody>\n",
       "</table>\n",
       "<p>10 rows × 755 columns</p>\n",
       "</div>"
      ],
      "text/plain": [
       "   id  gender      PPE      DFA     RPDE  numPulses  numPeriodsPulses  \\\n",
       "0   0       1  0.85247  0.71826  0.57227        240               239   \n",
       "1   0       1  0.76686  0.69481  0.53966        234               233   \n",
       "2   0       1  0.85083  0.67604  0.58982        232               231   \n",
       "3   1       0  0.41121  0.79672  0.59257        178               177   \n",
       "4   1       0  0.32790  0.79782  0.53028        236               235   \n",
       "5   1       0  0.50780  0.78744  0.65451        226               221   \n",
       "6   2       1  0.76095  0.62145  0.54543        322               321   \n",
       "7   2       1  0.83671  0.62079  0.51179        318               317   \n",
       "8   2       1  0.80826  0.61766  0.50447        318               317   \n",
       "9   3       0  0.85302  0.62247  0.54855        493               492   \n",
       "\n",
       "   meanPeriodPulses  stdDevPeriodPulses  locPctJitter  ...    \\\n",
       "0          0.008064            0.000087       0.00218  ...     \n",
       "1          0.008258            0.000073       0.00195  ...     \n",
       "2          0.008340            0.000060       0.00176  ...     \n",
       "3          0.010858            0.000183       0.00419  ...     \n",
       "4          0.008162            0.002669       0.00535  ...     \n",
       "5          0.007631            0.002696       0.00783  ...     \n",
       "6          0.005991            0.000107       0.00222  ...     \n",
       "7          0.006074            0.000136       0.00282  ...     \n",
       "8          0.006057            0.000069       0.00161  ...     \n",
       "9          0.003910            0.000040       0.00075  ...     \n",
       "\n",
       "   tqwt_kurtosisValue_dec_28  tqwt_kurtosisValue_dec_29  \\\n",
       "0                     1.5620                     2.6445   \n",
       "1                     1.5589                     3.6107   \n",
       "2                     1.5643                     2.3308   \n",
       "3                     3.7805                     3.5664   \n",
       "4                     6.1727                     5.8416   \n",
       "5                     4.8025                     5.0734   \n",
       "6                   117.2678                    75.3156   \n",
       "7                     3.8564                    11.8909   \n",
       "8                     2.2640                     6.3993   \n",
       "9                     1.6796                     2.0474   \n",
       "\n",
       "   tqwt_kurtosisValue_dec_30  tqwt_kurtosisValue_dec_31  \\\n",
       "0                     3.8686                     4.2105   \n",
       "1                    23.5155                    14.1962   \n",
       "2                     9.4959                    10.7458   \n",
       "3                     5.2558                    14.0403   \n",
       "4                     6.0805                     5.7621   \n",
       "5                     7.0166                     5.9966   \n",
       "6                    32.0478                     7.7060   \n",
       "7                     7.2891                     4.3682   \n",
       "8                     4.4165                     4.2662   \n",
       "9                     2.8117                     3.5070   \n",
       "\n",
       "   tqwt_kurtosisValue_dec_32  tqwt_kurtosisValue_dec_33  \\\n",
       "0                     5.1221                     4.4625   \n",
       "1                    11.0261                     9.5082   \n",
       "2                    11.0177                     4.8066   \n",
       "3                     4.2235                     4.6857   \n",
       "4                     7.7817                    11.6891   \n",
       "5                     5.2065                     7.4246   \n",
       "6                     3.1060                     4.6206   \n",
       "7                     3.6443                     5.9610   \n",
       "8                     3.6357                     3.7346   \n",
       "9                     3.2727                     3.8415   \n",
       "\n",
       "   tqwt_kurtosisValue_dec_34  tqwt_kurtosisValue_dec_35  \\\n",
       "0                     2.6202                     3.0004   \n",
       "1                     6.5245                     6.3431   \n",
       "2                     2.9199                     3.1495   \n",
       "3                     4.8460                     6.2650   \n",
       "4                     8.2103                     5.0559   \n",
       "5                     3.4153                     3.5046   \n",
       "6                    12.8353                    13.8300   \n",
       "7                    11.7552                    18.0927   \n",
       "8                     2.9394                     3.6216   \n",
       "9                     3.9439                     5.8807   \n",
       "\n",
       "   tqwt_kurtosisValue_dec_36  class  \n",
       "0                    18.9405      1  \n",
       "1                    45.1780      1  \n",
       "2                     4.7666      1  \n",
       "3                     4.0603      1  \n",
       "4                     6.1164      1  \n",
       "5                     3.2250      1  \n",
       "6                     7.7693      1  \n",
       "7                     5.0448      1  \n",
       "8                     3.8430      1  \n",
       "9                    38.7211      1  \n",
       "\n",
       "[10 rows x 755 columns]"
      ]
     },
     "execution_count": 4,
     "metadata": {},
     "output_type": "execute_result"
    }
   ],
   "source": [
    "df.head(10)"
   ]
  },
  {
   "cell_type": "code",
   "execution_count": 5,
   "metadata": {},
   "outputs": [
    {
     "data": {
      "text/plain": [
       "252"
      ]
     },
     "execution_count": 5,
     "metadata": {},
     "output_type": "execute_result"
    }
   ],
   "source": [
    "df.id.nunique()"
   ]
  },
  {
   "cell_type": "code",
   "execution_count": 6,
   "metadata": {},
   "outputs": [
    {
     "name": "stdout",
     "output_type": "stream",
     "text": [
      "Summary of attribute datatypes:\n",
      "float64    749\n",
      "int64        6\n",
      "dtype: int64\n"
     ]
    }
   ],
   "source": [
    "print('Summary of attribute datatypes:\\n', df.dtypes.value_counts(), sep=\"\")"
   ]
  },
  {
   "cell_type": "code",
   "execution_count": 7,
   "metadata": {},
   "outputs": [
    {
     "name": "stdout",
     "output_type": "stream",
     "text": [
      "Number of null values: 0\n"
     ]
    }
   ],
   "source": [
    "print(\"Number of null values:\", df.isnull().sum().sum())"
   ]
  },
  {
   "cell_type": "markdown",
   "metadata": {},
   "source": [
    "The data consists of 3 records for each patient, and all the columns, except for gender, seem to be numeric. Therefore, gender will be transformed into categorical variable, and mean value of the rest attributes will be calculated by id (patient)."
   ]
  },
  {
   "cell_type": "code",
   "execution_count": 8,
   "metadata": {},
   "outputs": [
    {
     "data": {
      "text/html": [
       "<div>\n",
       "<style>\n",
       "    .dataframe thead tr:only-child th {\n",
       "        text-align: right;\n",
       "    }\n",
       "\n",
       "    .dataframe thead th {\n",
       "        text-align: left;\n",
       "    }\n",
       "\n",
       "    .dataframe tbody tr th {\n",
       "        vertical-align: top;\n",
       "    }\n",
       "</style>\n",
       "<table border=\"1\" class=\"dataframe\">\n",
       "  <thead>\n",
       "    <tr style=\"text-align: right;\">\n",
       "      <th></th>\n",
       "      <th>gender</th>\n",
       "      <th>PPE</th>\n",
       "      <th>DFA</th>\n",
       "      <th>RPDE</th>\n",
       "      <th>numPulses</th>\n",
       "      <th>numPeriodsPulses</th>\n",
       "      <th>meanPeriodPulses</th>\n",
       "      <th>stdDevPeriodPulses</th>\n",
       "      <th>locPctJitter</th>\n",
       "      <th>locAbsJitter</th>\n",
       "      <th>...</th>\n",
       "      <th>tqwt_kurtosisValue_dec_28</th>\n",
       "      <th>tqwt_kurtosisValue_dec_29</th>\n",
       "      <th>tqwt_kurtosisValue_dec_30</th>\n",
       "      <th>tqwt_kurtosisValue_dec_31</th>\n",
       "      <th>tqwt_kurtosisValue_dec_32</th>\n",
       "      <th>tqwt_kurtosisValue_dec_33</th>\n",
       "      <th>tqwt_kurtosisValue_dec_34</th>\n",
       "      <th>tqwt_kurtosisValue_dec_35</th>\n",
       "      <th>tqwt_kurtosisValue_dec_36</th>\n",
       "      <th>class</th>\n",
       "    </tr>\n",
       "    <tr>\n",
       "      <th>id</th>\n",
       "      <th></th>\n",
       "      <th></th>\n",
       "      <th></th>\n",
       "      <th></th>\n",
       "      <th></th>\n",
       "      <th></th>\n",
       "      <th></th>\n",
       "      <th></th>\n",
       "      <th></th>\n",
       "      <th></th>\n",
       "      <th></th>\n",
       "      <th></th>\n",
       "      <th></th>\n",
       "      <th></th>\n",
       "      <th></th>\n",
       "      <th></th>\n",
       "      <th></th>\n",
       "      <th></th>\n",
       "      <th></th>\n",
       "      <th></th>\n",
       "      <th></th>\n",
       "    </tr>\n",
       "  </thead>\n",
       "  <tbody>\n",
       "    <tr>\n",
       "      <th>0</th>\n",
       "      <td>1.0</td>\n",
       "      <td>0.823387</td>\n",
       "      <td>0.696370</td>\n",
       "      <td>0.567250</td>\n",
       "      <td>235.333333</td>\n",
       "      <td>234.333333</td>\n",
       "      <td>0.008220</td>\n",
       "      <td>0.000073</td>\n",
       "      <td>0.001963</td>\n",
       "      <td>0.000016</td>\n",
       "      <td>...</td>\n",
       "      <td>1.561733</td>\n",
       "      <td>2.862000</td>\n",
       "      <td>12.293333</td>\n",
       "      <td>9.717500</td>\n",
       "      <td>9.055300</td>\n",
       "      <td>6.259100</td>\n",
       "      <td>4.021533</td>\n",
       "      <td>4.164333</td>\n",
       "      <td>22.961700</td>\n",
       "      <td>1.0</td>\n",
       "    </tr>\n",
       "    <tr>\n",
       "      <th>1</th>\n",
       "      <td>0.0</td>\n",
       "      <td>0.415637</td>\n",
       "      <td>0.793993</td>\n",
       "      <td>0.592453</td>\n",
       "      <td>213.333333</td>\n",
       "      <td>211.000000</td>\n",
       "      <td>0.008884</td>\n",
       "      <td>0.001849</td>\n",
       "      <td>0.005790</td>\n",
       "      <td>0.000050</td>\n",
       "      <td>...</td>\n",
       "      <td>4.918567</td>\n",
       "      <td>4.827133</td>\n",
       "      <td>6.117633</td>\n",
       "      <td>8.599667</td>\n",
       "      <td>5.737233</td>\n",
       "      <td>7.933133</td>\n",
       "      <td>5.490533</td>\n",
       "      <td>4.941833</td>\n",
       "      <td>4.467233</td>\n",
       "      <td>1.0</td>\n",
       "    </tr>\n",
       "    <tr>\n",
       "      <th>2</th>\n",
       "      <td>1.0</td>\n",
       "      <td>0.801973</td>\n",
       "      <td>0.619967</td>\n",
       "      <td>0.520563</td>\n",
       "      <td>319.333333</td>\n",
       "      <td>318.333333</td>\n",
       "      <td>0.006041</td>\n",
       "      <td>0.000104</td>\n",
       "      <td>0.002217</td>\n",
       "      <td>0.000013</td>\n",
       "      <td>...</td>\n",
       "      <td>41.129400</td>\n",
       "      <td>31.201933</td>\n",
       "      <td>14.584467</td>\n",
       "      <td>5.446800</td>\n",
       "      <td>3.462000</td>\n",
       "      <td>4.772067</td>\n",
       "      <td>9.176633</td>\n",
       "      <td>11.848100</td>\n",
       "      <td>5.552367</td>\n",
       "      <td>1.0</td>\n",
       "    </tr>\n",
       "    <tr>\n",
       "      <th>3</th>\n",
       "      <td>0.0</td>\n",
       "      <td>0.828707</td>\n",
       "      <td>0.626097</td>\n",
       "      <td>0.537183</td>\n",
       "      <td>493.000000</td>\n",
       "      <td>492.000000</td>\n",
       "      <td>0.003913</td>\n",
       "      <td>0.000042</td>\n",
       "      <td>0.000757</td>\n",
       "      <td>0.000003</td>\n",
       "      <td>...</td>\n",
       "      <td>1.677633</td>\n",
       "      <td>1.908400</td>\n",
       "      <td>2.842167</td>\n",
       "      <td>3.493867</td>\n",
       "      <td>3.282433</td>\n",
       "      <td>3.085267</td>\n",
       "      <td>3.184433</td>\n",
       "      <td>4.032933</td>\n",
       "      <td>22.773633</td>\n",
       "      <td>1.0</td>\n",
       "    </tr>\n",
       "    <tr>\n",
       "      <th>4</th>\n",
       "      <td>0.0</td>\n",
       "      <td>0.831287</td>\n",
       "      <td>0.779397</td>\n",
       "      <td>0.726717</td>\n",
       "      <td>362.666667</td>\n",
       "      <td>361.666667</td>\n",
       "      <td>0.005622</td>\n",
       "      <td>0.002023</td>\n",
       "      <td>0.003593</td>\n",
       "      <td>0.000021</td>\n",
       "      <td>...</td>\n",
       "      <td>4.104600</td>\n",
       "      <td>4.285233</td>\n",
       "      <td>2.953200</td>\n",
       "      <td>2.799933</td>\n",
       "      <td>2.645100</td>\n",
       "      <td>2.811367</td>\n",
       "      <td>7.268333</td>\n",
       "      <td>13.338833</td>\n",
       "      <td>63.766900</td>\n",
       "      <td>1.0</td>\n",
       "    </tr>\n",
       "  </tbody>\n",
       "</table>\n",
       "<p>5 rows × 754 columns</p>\n",
       "</div>"
      ],
      "text/plain": [
       "   gender       PPE       DFA      RPDE   numPulses  numPeriodsPulses  \\\n",
       "id                                                                      \n",
       "0     1.0  0.823387  0.696370  0.567250  235.333333        234.333333   \n",
       "1     0.0  0.415637  0.793993  0.592453  213.333333        211.000000   \n",
       "2     1.0  0.801973  0.619967  0.520563  319.333333        318.333333   \n",
       "3     0.0  0.828707  0.626097  0.537183  493.000000        492.000000   \n",
       "4     0.0  0.831287  0.779397  0.726717  362.666667        361.666667   \n",
       "\n",
       "    meanPeriodPulses  stdDevPeriodPulses  locPctJitter  locAbsJitter  ...    \\\n",
       "id                                                                    ...     \n",
       "0           0.008220            0.000073      0.001963      0.000016  ...     \n",
       "1           0.008884            0.001849      0.005790      0.000050  ...     \n",
       "2           0.006041            0.000104      0.002217      0.000013  ...     \n",
       "3           0.003913            0.000042      0.000757      0.000003  ...     \n",
       "4           0.005622            0.002023      0.003593      0.000021  ...     \n",
       "\n",
       "    tqwt_kurtosisValue_dec_28  tqwt_kurtosisValue_dec_29  \\\n",
       "id                                                         \n",
       "0                    1.561733                   2.862000   \n",
       "1                    4.918567                   4.827133   \n",
       "2                   41.129400                  31.201933   \n",
       "3                    1.677633                   1.908400   \n",
       "4                    4.104600                   4.285233   \n",
       "\n",
       "    tqwt_kurtosisValue_dec_30  tqwt_kurtosisValue_dec_31  \\\n",
       "id                                                         \n",
       "0                   12.293333                   9.717500   \n",
       "1                    6.117633                   8.599667   \n",
       "2                   14.584467                   5.446800   \n",
       "3                    2.842167                   3.493867   \n",
       "4                    2.953200                   2.799933   \n",
       "\n",
       "    tqwt_kurtosisValue_dec_32  tqwt_kurtosisValue_dec_33  \\\n",
       "id                                                         \n",
       "0                    9.055300                   6.259100   \n",
       "1                    5.737233                   7.933133   \n",
       "2                    3.462000                   4.772067   \n",
       "3                    3.282433                   3.085267   \n",
       "4                    2.645100                   2.811367   \n",
       "\n",
       "    tqwt_kurtosisValue_dec_34  tqwt_kurtosisValue_dec_35  \\\n",
       "id                                                         \n",
       "0                    4.021533                   4.164333   \n",
       "1                    5.490533                   4.941833   \n",
       "2                    9.176633                  11.848100   \n",
       "3                    3.184433                   4.032933   \n",
       "4                    7.268333                  13.338833   \n",
       "\n",
       "    tqwt_kurtosisValue_dec_36  class  \n",
       "id                                    \n",
       "0                   22.961700    1.0  \n",
       "1                    4.467233    1.0  \n",
       "2                    5.552367    1.0  \n",
       "3                   22.773633    1.0  \n",
       "4                   63.766900    1.0  \n",
       "\n",
       "[5 rows x 754 columns]"
      ]
     },
     "execution_count": 8,
     "metadata": {},
     "output_type": "execute_result"
    }
   ],
   "source": [
    "df_mean = df.groupby(['id']).mean()\n",
    "df_mean.gender = df_mean.gender.astype('category')\n",
    "df_mean.head()"
   ]
  },
  {
   "cell_type": "markdown",
   "metadata": {},
   "source": [
    "## Base Model\n",
    "The following classification models are used to get baseline performance:\n",
    "- Logistic Regression\n",
    "- Linear SVM\n",
    "- SVM\n",
    "- kNN"
   ]
  },
  {
   "cell_type": "code",
   "execution_count": 9,
   "metadata": {
    "collapsed": true
   },
   "outputs": [],
   "source": [
    "from sklearn.model_selection import cross_val_score\n",
    "from sklearn.linear_model import LogisticRegression\n",
    "from sklearn.svm import SVC, LinearSVC\n",
    "from sklearn.neighbors import KNeighborsClassifier"
   ]
  },
  {
   "cell_type": "code",
   "execution_count": 10,
   "metadata": {
    "collapsed": true
   },
   "outputs": [],
   "source": [
    "X_base = df_mean.iloc[:,:-1]\n",
    "y_base = df_mean.iloc[:,-1]"
   ]
  },
  {
   "cell_type": "code",
   "execution_count": 11,
   "metadata": {},
   "outputs": [
    {
     "data": {
      "text/plain": [
       "(252, 753)"
      ]
     },
     "execution_count": 11,
     "metadata": {},
     "output_type": "execute_result"
    }
   ],
   "source": [
    "X_base.shape"
   ]
  },
  {
   "cell_type": "code",
   "execution_count": 12,
   "metadata": {
    "collapsed": true
   },
   "outputs": [],
   "source": [
    "classifiers = [LogisticRegression(), LinearSVC(), SVC(), KNeighborsClassifier()]"
   ]
  },
  {
   "cell_type": "code",
   "execution_count": 13,
   "metadata": {},
   "outputs": [
    {
     "name": "stdout",
     "output_type": "stream",
     "text": [
      "Accuracy: 0.7857687074829931; AUC: 0.7387277966225335\n",
      "Accuracy: 0.545999199679872; AUC: 0.3062753036437247\n",
      "Accuracy: 0.7460792316926771; AUC: 0.5\n",
      "Accuracy: 0.7103865546218489; AUC: 0.5919137761243025\n",
      "Wall time: 19.9 s\n"
     ]
    }
   ],
   "source": [
    "%%time\n",
    "for c in classifiers:\n",
    "    print('Accuracy: {}; AUC: {}'.format(cross_val_score(c, X_base, y_base, cv=5, scoring='accuracy').mean(),\n",
    "                                         cross_val_score(c, X_base, y_base, cv=5, scoring='roc_auc').mean()))"
   ]
  },
  {
   "cell_type": "markdown",
   "metadata": {},
   "source": [
    "Based on accuracy and AUC, it seems logistic regression has the best performance, followed by SVM or kNN. Therefore, logistic regression is selected as the model for improvement."
   ]
  },
  {
   "cell_type": "markdown",
   "metadata": {},
   "source": [
    "## Model Improvement\n",
    "\n",
    "### Adding more features\n",
    "The min and max of the attributes for each id are added into the dataset."
   ]
  },
  {
   "cell_type": "code",
   "execution_count": 14,
   "metadata": {},
   "outputs": [
    {
     "data": {
      "text/plain": [
       "(252, 2257)"
      ]
     },
     "execution_count": 14,
     "metadata": {},
     "output_type": "execute_result"
    }
   ],
   "source": [
    "df_min = df.groupby(['id']).min().drop(['gender', 'class'], axis=1)\n",
    "df_max = df.groupby(['id']).max().drop(['gender', 'class'], axis=1)\n",
    "df_by_patient = pd.concat([df_mean.iloc[:,:-1], df_min, df_max], axis=1, join_axes=[df_mean.index])\n",
    "df_by_patient.shape"
   ]
  },
  {
   "cell_type": "markdown",
   "metadata": {},
   "source": [
    "### Create hold-out set"
   ]
  },
  {
   "cell_type": "code",
   "execution_count": 15,
   "metadata": {
    "collapsed": true
   },
   "outputs": [],
   "source": [
    "from sklearn.model_selection import train_test_split"
   ]
  },
  {
   "cell_type": "code",
   "execution_count": 16,
   "metadata": {},
   "outputs": [],
   "source": [
    "X = df_by_patient\n",
    "y = df_mean.iloc[:,-1]\n",
    "X_train, X_test, y_train, y_test = train_test_split(X, y, test_size=0.4, stratify=y)"
   ]
  },
  {
   "cell_type": "code",
   "execution_count": 17,
   "metadata": {},
   "outputs": [
    {
     "data": {
      "text/plain": [
       "(151, 2257)"
      ]
     },
     "execution_count": 17,
     "metadata": {},
     "output_type": "execute_result"
    }
   ],
   "source": [
    "X_train.shape"
   ]
  },
  {
   "cell_type": "markdown",
   "metadata": {},
   "source": [
    "### Exploratory Data Analysis: PCA"
   ]
  },
  {
   "cell_type": "code",
   "execution_count": 18,
   "metadata": {
    "collapsed": true
   },
   "outputs": [],
   "source": [
    "from sklearn.preprocessing import StandardScaler\n",
    "from sklearn.decomposition import PCA\n",
    "from sklearn.pipeline import make_pipeline"
   ]
  },
  {
   "cell_type": "code",
   "execution_count": 19,
   "metadata": {},
   "outputs": [
    {
     "data": {
      "text/plain": [
       "Pipeline(memory=None,\n",
       "     steps=[('standardscaler', StandardScaler(copy=True, with_mean=True, with_std=True)), ('pca', PCA(copy=True, iterated_power='auto', n_components=252, random_state=None,\n",
       "  svd_solver='auto', tol=0.0, whiten=False))])"
      ]
     },
     "execution_count": 19,
     "metadata": {},
     "output_type": "execute_result"
    }
   ],
   "source": [
    "scaler = StandardScaler()\n",
    "pca = PCA(n_components=252)\n",
    "pipeline = make_pipeline(scaler, pca)\n",
    "pipeline.fit(X)"
   ]
  },
  {
   "cell_type": "code",
   "execution_count": 20,
   "metadata": {},
   "outputs": [
    {
     "data": {
      "text/html": [
       "<div>\n",
       "<style>\n",
       "    .dataframe thead tr:only-child th {\n",
       "        text-align: right;\n",
       "    }\n",
       "\n",
       "    .dataframe thead th {\n",
       "        text-align: left;\n",
       "    }\n",
       "\n",
       "    .dataframe tbody tr th {\n",
       "        vertical-align: top;\n",
       "    }\n",
       "</style>\n",
       "<table border=\"1\" class=\"dataframe\">\n",
       "  <thead>\n",
       "    <tr style=\"text-align: right;\">\n",
       "      <th></th>\n",
       "      <th>features</th>\n",
       "      <th>variance</th>\n",
       "      <th>cumulated_variance</th>\n",
       "    </tr>\n",
       "  </thead>\n",
       "  <tbody>\n",
       "    <tr>\n",
       "      <th>0</th>\n",
       "      <td>0</td>\n",
       "      <td>0.140383</td>\n",
       "      <td>0.140383</td>\n",
       "    </tr>\n",
       "    <tr>\n",
       "      <th>1</th>\n",
       "      <td>1</td>\n",
       "      <td>0.102844</td>\n",
       "      <td>0.243227</td>\n",
       "    </tr>\n",
       "    <tr>\n",
       "      <th>2</th>\n",
       "      <td>2</td>\n",
       "      <td>0.097345</td>\n",
       "      <td>0.340572</td>\n",
       "    </tr>\n",
       "    <tr>\n",
       "      <th>3</th>\n",
       "      <td>3</td>\n",
       "      <td>0.046614</td>\n",
       "      <td>0.387186</td>\n",
       "    </tr>\n",
       "    <tr>\n",
       "      <th>4</th>\n",
       "      <td>4</td>\n",
       "      <td>0.038270</td>\n",
       "      <td>0.425456</td>\n",
       "    </tr>\n",
       "  </tbody>\n",
       "</table>\n",
       "</div>"
      ],
      "text/plain": [
       "   features  variance  cumulated_variance\n",
       "0         0  0.140383            0.140383\n",
       "1         1  0.102844            0.243227\n",
       "2         2  0.097345            0.340572\n",
       "3         3  0.046614            0.387186\n",
       "4         4  0.038270            0.425456"
      ]
     },
     "execution_count": 20,
     "metadata": {},
     "output_type": "execute_result"
    }
   ],
   "source": [
    "pca_dict = {'features': range(pca.n_components_),\n",
    "            'variance': pca.explained_variance_ratio_}\n",
    "df_pca = pd.DataFrame(pca_dict)\n",
    "df_pca['cumulated_variance'] = df_pca.variance.cumsum()\n",
    "df_pca.sort_values(['variance'], ascending=False).head()"
   ]
  },
  {
   "cell_type": "code",
   "execution_count": 21,
   "metadata": {},
   "outputs": [
    {
     "data": {
      "image/png": "[encoded data removed]",
      "text/plain": [
       "<matplotlib.figure.Figure at 0x22a98fd2f60>"
      ]
     },
     "metadata": {},
     "output_type": "display_data"
    }
   ],
   "source": [
    "# Add plot\n",
    "plt.bar(df_pca['features'], df_pca['variance'])\n",
    "plt.show()"
   ]
  },
  {
   "cell_type": "code",
   "execution_count": 22,
   "metadata": {},
   "outputs": [
    {
     "name": "stdout",
     "output_type": "stream",
     "text": [
      "range(0, 252) 252\n",
      "First 129 principle factors explains over 95% of the variance\n"
     ]
    }
   ],
   "source": [
    "print(range(pca.n_components_), len(pca.explained_variance_))\n",
    "print('First {} principle factors explains over 95% of the variance'.format(sum(df_pca.cumulated_variance > 0.95)))"
   ]
  },
  {
   "cell_type": "markdown",
   "metadata": {},
   "source": [
    "### Pipeline and Grid Search\n",
    "In the new process, scaling is added as part of the modeling pipeline. Grid search is also used to find out the best parameters for the components of PCA and regularization of logistic regression. Finally, the model performance is tested with hold-out set."
   ]
  },
  {
   "cell_type": "code",
   "execution_count": 23,
   "metadata": {
    "collapsed": true
   },
   "outputs": [],
   "source": [
    "from sklearn.model_selection import GridSearchCV\n",
    "from sklearn.decomposition import PCA\n",
    "from sklearn.metrics import roc_auc_score\n",
    "from sklearn.pipeline import Pipeline"
   ]
  },
  {
   "cell_type": "code",
   "execution_count": 24,
   "metadata": {},
   "outputs": [
    {
     "name": "stdout",
     "output_type": "stream",
     "text": [
      "{'LogReg__penalty': 'l1', 'PCA__n_components': 20, 'LogReg__C': 0.13894954943731375} 0.847682119205\n",
      "Wall time: 9min 41s\n"
     ]
    }
   ],
   "source": [
    "%%time\n",
    "\n",
    "pipeline = Pipeline([('scaler', StandardScaler()),\n",
    "                     ('PCA', PCA()),\n",
    "                     ('LogReg', LogisticRegression())])\n",
    "n_components = np.arange(10, 150, 10)\n",
    "c_space = np.logspace(-2, 2, 15)\n",
    "parameters = {'PCA__n_components': n_components,\n",
    "              'LogReg__C': c_space,\n",
    "              'LogReg__penalty': ['l1', 'l2']}\n",
    "cv = GridSearchCV(pipeline, param_grid=parameters)\n",
    "cv.fit(X_train, y_train)\n",
    "print(cv.best_params_, cv.best_score_)"
   ]
  },
  {
   "cell_type": "code",
   "execution_count": 25,
   "metadata": {},
   "outputs": [
    {
     "name": "stdout",
     "output_type": "stream",
     "text": [
      "Accuracy: 0.8118811881188119\n",
      "AUC: 0.8415384615384616\n"
     ]
    }
   ],
   "source": [
    "y_pred_prob = cv.predict_proba(X_test)[:,1]\n",
    "print('Accuracy: {}\\nAUC: {}'.format(cv.score(X_test, y_test), roc_auc_score(y_test, y_pred_prob)))"
   ]
  },
  {
   "cell_type": "markdown",
   "metadata": {},
   "source": [
    "#### Same process without PCA"
   ]
  },
  {
   "cell_type": "code",
   "execution_count": 26,
   "metadata": {},
   "outputs": [
    {
     "name": "stdout",
     "output_type": "stream",
     "text": [
      "{'LogReg__penalty': 'l1', 'LogReg__C': 0.32903445623126676} 0.814569536424\n",
      "Wall time: 1min 2s\n"
     ]
    }
   ],
   "source": [
    "%%time\n",
    "\n",
    "pipeline = Pipeline([('scaler', StandardScaler()),\n",
    "                     ('LogReg', LogisticRegression())])\n",
    "c_space = np.logspace(-2, 2, 30)\n",
    "parameters = {'LogReg__C': c_space,\n",
    "              'LogReg__penalty': ['l1', 'l2']}\n",
    "cv2 = GridSearchCV(pipeline, param_grid=parameters)\n",
    "cv2.fit(X_train, y_train)\n",
    "print(cv2.best_params_, cv2.best_score_)"
   ]
  },
  {
   "cell_type": "code",
   "execution_count": 27,
   "metadata": {},
   "outputs": [
    {
     "name": "stdout",
     "output_type": "stream",
     "text": [
      "Accuracy: 0.7425742574257426\n",
      "AUC: 0.8348717948717949\n"
     ]
    }
   ],
   "source": [
    "y_pred_prob2 = cv2.predict_proba(X_test)[:,1]\n",
    "print('Accuracy: {}\\nAUC: {}'.format(cv2.score(X_test, y_test), roc_auc_score(y_test, y_pred_prob2)))"
   ]
  },
  {
   "cell_type": "markdown",
   "metadata": {},
   "source": [
    "## Model Performance"
   ]
  },
  {
   "cell_type": "code",
   "execution_count": 28,
   "metadata": {
    "collapsed": true
   },
   "outputs": [],
   "source": [
    "from sklearn.metrics import roc_curve\n",
    "from sklearn.metrics import classification_report"
   ]
  },
  {
   "cell_type": "markdown",
   "metadata": {},
   "source": [
    "### ROC Curve"
   ]
  },
  {
   "cell_type": "code",
   "execution_count": 29,
   "metadata": {},
   "outputs": [
    {
     "data": {
      "image/png": "[encoded data removed]",
      "text/plain": [
       "<matplotlib.figure.Figure at 0x22a9bc24a90>"
      ]
     },
     "metadata": {},
     "output_type": "display_data"
    }
   ],
   "source": [
    "y_pred_prob = cv.predict_proba(X_test)[:,1]\n",
    "y_pred_prob2 = cv2.predict_proba(X_test)[:,1]\n",
    "fpr, tpr, thresholds = roc_curve(y_test, y_pred_prob)\n",
    "fpr2, tpr2, thresholds2 = roc_curve(y_test, y_pred_prob2)\n",
    "plt.plot([0,1], [0,1], 'k--')\n",
    "plt.plot(fpr, tpr, label = 'LR with PCA')\n",
    "plt.plot(fpr2, tpr2, label = 'LR without PCA')\n",
    "plt.legend()\n",
    "plt.show()"
   ]
  },
  {
   "cell_type": "markdown",
   "metadata": {},
   "source": [
    "### Classification Report"
   ]
  },
  {
   "cell_type": "code",
   "execution_count": 30,
   "metadata": {},
   "outputs": [
    {
     "name": "stdout",
     "output_type": "stream",
     "text": [
      "Logistic Regression with PCA\n",
      "             precision    recall  f1-score   support\n",
      "\n",
      "        0.0       0.65      0.58      0.61        26\n",
      "        1.0       0.86      0.89      0.88        75\n",
      "\n",
      "avg / total       0.81      0.81      0.81       101\n",
      "\n",
      "AUC: 0.8415384615384616\n"
     ]
    }
   ],
   "source": [
    "print(\"Logistic Regression with PCA\")\n",
    "y_pred = cv.predict(X_test)\n",
    "print(classification_report(y_test, y_pred))\n",
    "print('AUC: {}'.format(roc_auc_score(y_test, y_pred_prob)))"
   ]
  },
  {
   "cell_type": "code",
   "execution_count": 31,
   "metadata": {},
   "outputs": [
    {
     "name": "stdout",
     "output_type": "stream",
     "text": [
      "Logistic Regression without PCA\n",
      "             precision    recall  f1-score   support\n",
      "\n",
      "        0.0       0.50      0.50      0.50        26\n",
      "        1.0       0.83      0.83      0.83        75\n",
      "\n",
      "avg / total       0.74      0.74      0.74       101\n",
      "\n",
      "AUC: 0.8348717948717949\n"
     ]
    }
   ],
   "source": [
    "print(\"Logistic Regression without PCA\")\n",
    "y_pred2 = cv2.predict(X_test)\n",
    "print(classification_report(y_test, y_pred2))\n",
    "print('AUC: {}'.format(roc_auc_score(y_test, y_pred_prob2)))"
   ]
  },
  {
   "cell_type": "markdown",
   "metadata": {},
   "source": [
    "## Appendix: kNN"
   ]
  },
  {
   "cell_type": "code",
   "execution_count": 32,
   "metadata": {},
   "outputs": [
    {
     "name": "stdout",
     "output_type": "stream",
     "text": [
      "{'kNN__n_neighbors': 9, 'PCA__n_components': 10} 0.827814569536\n",
      "Wall time: 3min 7s\n"
     ]
    }
   ],
   "source": [
    "%%time\n",
    "\n",
    "pipeline = Pipeline([('scaler', StandardScaler()),\n",
    "                     ('PCA', PCA()),\n",
    "                     ('kNN', KNeighborsClassifier())])\n",
    "n_components = np.arange(10, 150, 10)\n",
    "n_neighbors = np.arange(5, 15)\n",
    "parameters = {'PCA__n_components': n_components,\n",
    "              'kNN__n_neighbors': n_neighbors}\n",
    "cv_knn = GridSearchCV(pipeline, param_grid=parameters)\n",
    "cv_knn.fit(X_train, y_train)\n",
    "print(cv_knn.best_params_, cv_knn.best_score_)"
   ]
  },
  {
   "cell_type": "code",
   "execution_count": 34,
   "metadata": {},
   "outputs": [
    {
     "name": "stdout",
     "output_type": "stream",
     "text": [
      "Accuracy: 0.7821782178217822\n",
      "AUC: 0.7223076923076923\n"
     ]
    }
   ],
   "source": [
    "y_pred_prob_knn = cv_knn.predict_proba(X_test)[:,1]\n",
    "print('Accuracy: {}\\nAUC: {}'.format(cv_knn.score(X_test, y_test), roc_auc_score(y_test, y_pred_prob_knn)))"
   ]
  }
 ],
 "metadata": {
  "kernelspec": {
   "display_name": "Python 3",
   "language": "python",
   "name": "python3"
  },
  "language_info": {
   "codemirror_mode": {
    "name": "ipython",
    "version": 3
   },
   "file_extension": ".py",
   "mimetype": "text/x-python",
   "name": "python",
   "nbconvert_exporter": "python",
   "pygments_lexer": "ipython3",
   "version": "3.5.2"
  }
 },
 "nbformat": 4,
 "nbformat_minor": 2
}
