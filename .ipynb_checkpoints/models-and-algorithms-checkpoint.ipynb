{
 "cells": [
  {
   "cell_type": "markdown",
   "metadata": {},
   "source": [
    "# Predicting Parkinson's Disease\n",
    "This notebook uses the the dataset from [UCI Machine Learning Repository](http://archive.ics.uci.edu/ml/datasets/Parkinson%27s+Disease+Classification) to practice classification problem through popular classification models. For each model, the algorithm, and a related topic if any, will be discussed before application. Afterwards, there will be a review on modeling performance. \n",
    "\n",
    "## Overview\n",
    "\n",
    "\n",
    "### I. Data Preparation\n",
    "- Load and Oberserve Data\n",
    "- Data Preprocessing\n",
    "- Min-Max Normalization\n",
    "- Problem Definition\n",
    "\n",
    "### II. Modeling\n",
    "\n",
    "Each modeling section consists of **an brief intro, the algorithm, discussion on related topics, and application** on the dataset.\n",
    "\n",
    "1. kNN\n",
    "    - Non-parametric Models\n",
    "    - Algorithm\n",
    "2. Naive Bayes  \n",
    "    - Bayes Classifier\n",
    "    - Algorithm\n",
    "    - Generative Model vs. Discriminative Model\n",
    "3. Logistic Regression\n",
    "    - Sigmoid Function\n",
    "    - Maximum Likelihood Estimation\n",
    "    - Algorithm\n",
    "    - (Also see Appendix A & B for related topics)\n",
    "4. Support Vector Machine\n",
    "    - Convex Sets and Convex Hulls\n",
    "    - Algorithm\n",
    "    - Soft-Margin SVM\n",
    "5. Kernel SVM\n",
    "    - Kernel\n",
    "    - Mercer's theorem\n",
    "    - RBF\n",
    "    - Algorithm\n",
    "6. Decision Tree\n",
    "\n",
    "### III. Model Improvement\n",
    "- PCA\n",
    "    - Algorithm: The First Principal Component\n",
    "    - Algorithm: General\n",
    "- Pipeline\n",
    "\n",
    "### IV. Model Selection\n",
    "- ROC Curve\n",
    "- Change Threshold\n",
    "- Classification Report\n",
    "\n",
    "### V. Appendix\n",
    "- Appendix A: Concepts for Logistic Regression\n",
    "    - A1. Binary Classification\n",
    "    - A2. Log Odds\n",
    "    - A3. Linear Discriminant Analysis\n",
    "\n",
    "- Appendix B: Linear Classifiers\n",
    "    - B1. Definition\n",
    "    - B2. Linear Separability\n",
    "    - B3. Methods\n",
    "    \n",
    "### References for Model Introduction and Algorithms"
   ]
  },
  {
   "cell_type": "code",
   "execution_count": 1,
   "metadata": {},
   "outputs": [],
   "source": [
    "%matplotlib inline\n",
    "import numpy as np\n",
    "import pandas as pd\n",
    "import matplotlib.pyplot as plt"
   ]
  },
  {
   "cell_type": "markdown",
   "metadata": {},
   "source": [
    "## I. Data Preparation\n",
    "### Load and Observe Data"
   ]
  },
  {
   "cell_type": "code",
   "execution_count": 2,
   "metadata": {},
   "outputs": [],
   "source": [
    "df = pd.read_csv('../project-parkinsons-disease-classification/data/pd_speech_features.csv', \n",
    "                 header=1)"
   ]
  },
  {
   "cell_type": "code",
   "execution_count": 3,
   "metadata": {},
   "outputs": [
    {
     "data": {
      "text/plain": [
       "(756, 755)"
      ]
     },
     "execution_count": 3,
     "metadata": {},
     "output_type": "execute_result"
    }
   ],
   "source": [
    "df.shape"
   ]
  },
  {
   "cell_type": "code",
   "execution_count": 4,
   "metadata": {},
   "outputs": [
    {
     "data": {
      "text/html": [
       "<div>\n",
       "<style>\n",
       "    .dataframe thead tr:only-child th {\n",
       "        text-align: right;\n",
       "    }\n",
       "\n",
       "    .dataframe thead th {\n",
       "        text-align: left;\n",
       "    }\n",
       "\n",
       "    .dataframe tbody tr th {\n",
       "        vertical-align: top;\n",
       "    }\n",
       "</style>\n",
       "<table border=\"1\" class=\"dataframe\">\n",
       "  <thead>\n",
       "    <tr style=\"text-align: right;\">\n",
       "      <th></th>\n",
       "      <th>id</th>\n",
       "      <th>gender</th>\n",
       "      <th>PPE</th>\n",
       "      <th>DFA</th>\n",
       "      <th>RPDE</th>\n",
       "      <th>numPulses</th>\n",
       "      <th>numPeriodsPulses</th>\n",
       "      <th>meanPeriodPulses</th>\n",
       "      <th>stdDevPeriodPulses</th>\n",
       "      <th>locPctJitter</th>\n",
       "      <th>...</th>\n",
       "      <th>tqwt_kurtosisValue_dec_28</th>\n",
       "      <th>tqwt_kurtosisValue_dec_29</th>\n",
       "      <th>tqwt_kurtosisValue_dec_30</th>\n",
       "      <th>tqwt_kurtosisValue_dec_31</th>\n",
       "      <th>tqwt_kurtosisValue_dec_32</th>\n",
       "      <th>tqwt_kurtosisValue_dec_33</th>\n",
       "      <th>tqwt_kurtosisValue_dec_34</th>\n",
       "      <th>tqwt_kurtosisValue_dec_35</th>\n",
       "      <th>tqwt_kurtosisValue_dec_36</th>\n",
       "      <th>class</th>\n",
       "    </tr>\n",
       "  </thead>\n",
       "  <tbody>\n",
       "    <tr>\n",
       "      <th>0</th>\n",
       "      <td>0</td>\n",
       "      <td>1</td>\n",
       "      <td>0.85247</td>\n",
       "      <td>0.71826</td>\n",
       "      <td>0.57227</td>\n",
       "      <td>240</td>\n",
       "      <td>239</td>\n",
       "      <td>0.008064</td>\n",
       "      <td>0.000087</td>\n",
       "      <td>0.00218</td>\n",
       "      <td>...</td>\n",
       "      <td>1.5620</td>\n",
       "      <td>2.6445</td>\n",
       "      <td>3.8686</td>\n",
       "      <td>4.2105</td>\n",
       "      <td>5.1221</td>\n",
       "      <td>4.4625</td>\n",
       "      <td>2.6202</td>\n",
       "      <td>3.0004</td>\n",
       "      <td>18.9405</td>\n",
       "      <td>1</td>\n",
       "    </tr>\n",
       "    <tr>\n",
       "      <th>1</th>\n",
       "      <td>0</td>\n",
       "      <td>1</td>\n",
       "      <td>0.76686</td>\n",
       "      <td>0.69481</td>\n",
       "      <td>0.53966</td>\n",
       "      <td>234</td>\n",
       "      <td>233</td>\n",
       "      <td>0.008258</td>\n",
       "      <td>0.000073</td>\n",
       "      <td>0.00195</td>\n",
       "      <td>...</td>\n",
       "      <td>1.5589</td>\n",
       "      <td>3.6107</td>\n",
       "      <td>23.5155</td>\n",
       "      <td>14.1962</td>\n",
       "      <td>11.0261</td>\n",
       "      <td>9.5082</td>\n",
       "      <td>6.5245</td>\n",
       "      <td>6.3431</td>\n",
       "      <td>45.1780</td>\n",
       "      <td>1</td>\n",
       "    </tr>\n",
       "    <tr>\n",
       "      <th>2</th>\n",
       "      <td>0</td>\n",
       "      <td>1</td>\n",
       "      <td>0.85083</td>\n",
       "      <td>0.67604</td>\n",
       "      <td>0.58982</td>\n",
       "      <td>232</td>\n",
       "      <td>231</td>\n",
       "      <td>0.008340</td>\n",
       "      <td>0.000060</td>\n",
       "      <td>0.00176</td>\n",
       "      <td>...</td>\n",
       "      <td>1.5643</td>\n",
       "      <td>2.3308</td>\n",
       "      <td>9.4959</td>\n",
       "      <td>10.7458</td>\n",
       "      <td>11.0177</td>\n",
       "      <td>4.8066</td>\n",
       "      <td>2.9199</td>\n",
       "      <td>3.1495</td>\n",
       "      <td>4.7666</td>\n",
       "      <td>1</td>\n",
       "    </tr>\n",
       "    <tr>\n",
       "      <th>3</th>\n",
       "      <td>1</td>\n",
       "      <td>0</td>\n",
       "      <td>0.41121</td>\n",
       "      <td>0.79672</td>\n",
       "      <td>0.59257</td>\n",
       "      <td>178</td>\n",
       "      <td>177</td>\n",
       "      <td>0.010858</td>\n",
       "      <td>0.000183</td>\n",
       "      <td>0.00419</td>\n",
       "      <td>...</td>\n",
       "      <td>3.7805</td>\n",
       "      <td>3.5664</td>\n",
       "      <td>5.2558</td>\n",
       "      <td>14.0403</td>\n",
       "      <td>4.2235</td>\n",
       "      <td>4.6857</td>\n",
       "      <td>4.8460</td>\n",
       "      <td>6.2650</td>\n",
       "      <td>4.0603</td>\n",
       "      <td>1</td>\n",
       "    </tr>\n",
       "    <tr>\n",
       "      <th>4</th>\n",
       "      <td>1</td>\n",
       "      <td>0</td>\n",
       "      <td>0.32790</td>\n",
       "      <td>0.79782</td>\n",
       "      <td>0.53028</td>\n",
       "      <td>236</td>\n",
       "      <td>235</td>\n",
       "      <td>0.008162</td>\n",
       "      <td>0.002669</td>\n",
       "      <td>0.00535</td>\n",
       "      <td>...</td>\n",
       "      <td>6.1727</td>\n",
       "      <td>5.8416</td>\n",
       "      <td>6.0805</td>\n",
       "      <td>5.7621</td>\n",
       "      <td>7.7817</td>\n",
       "      <td>11.6891</td>\n",
       "      <td>8.2103</td>\n",
       "      <td>5.0559</td>\n",
       "      <td>6.1164</td>\n",
       "      <td>1</td>\n",
       "    </tr>\n",
       "  </tbody>\n",
       "</table>\n",
       "<p>5 rows × 755 columns</p>\n",
       "</div>"
      ],
      "text/plain": [
       "   id  gender      PPE      DFA     RPDE  numPulses  numPeriodsPulses  \\\n",
       "0   0       1  0.85247  0.71826  0.57227        240               239   \n",
       "1   0       1  0.76686  0.69481  0.53966        234               233   \n",
       "2   0       1  0.85083  0.67604  0.58982        232               231   \n",
       "3   1       0  0.41121  0.79672  0.59257        178               177   \n",
       "4   1       0  0.32790  0.79782  0.53028        236               235   \n",
       "\n",
       "   meanPeriodPulses  stdDevPeriodPulses  locPctJitter  ...    \\\n",
       "0          0.008064            0.000087       0.00218  ...     \n",
       "1          0.008258            0.000073       0.00195  ...     \n",
       "2          0.008340            0.000060       0.00176  ...     \n",
       "3          0.010858            0.000183       0.00419  ...     \n",
       "4          0.008162            0.002669       0.00535  ...     \n",
       "\n",
       "   tqwt_kurtosisValue_dec_28  tqwt_kurtosisValue_dec_29  \\\n",
       "0                     1.5620                     2.6445   \n",
       "1                     1.5589                     3.6107   \n",
       "2                     1.5643                     2.3308   \n",
       "3                     3.7805                     3.5664   \n",
       "4                     6.1727                     5.8416   \n",
       "\n",
       "   tqwt_kurtosisValue_dec_30  tqwt_kurtosisValue_dec_31  \\\n",
       "0                     3.8686                     4.2105   \n",
       "1                    23.5155                    14.1962   \n",
       "2                     9.4959                    10.7458   \n",
       "3                     5.2558                    14.0403   \n",
       "4                     6.0805                     5.7621   \n",
       "\n",
       "   tqwt_kurtosisValue_dec_32  tqwt_kurtosisValue_dec_33  \\\n",
       "0                     5.1221                     4.4625   \n",
       "1                    11.0261                     9.5082   \n",
       "2                    11.0177                     4.8066   \n",
       "3                     4.2235                     4.6857   \n",
       "4                     7.7817                    11.6891   \n",
       "\n",
       "   tqwt_kurtosisValue_dec_34  tqwt_kurtosisValue_dec_35  \\\n",
       "0                     2.6202                     3.0004   \n",
       "1                     6.5245                     6.3431   \n",
       "2                     2.9199                     3.1495   \n",
       "3                     4.8460                     6.2650   \n",
       "4                     8.2103                     5.0559   \n",
       "\n",
       "   tqwt_kurtosisValue_dec_36  class  \n",
       "0                    18.9405      1  \n",
       "1                    45.1780      1  \n",
       "2                     4.7666      1  \n",
       "3                     4.0603      1  \n",
       "4                     6.1164      1  \n",
       "\n",
       "[5 rows x 755 columns]"
      ]
     },
     "execution_count": 4,
     "metadata": {},
     "output_type": "execute_result"
    }
   ],
   "source": [
    "df.head()"
   ]
  },
  {
   "cell_type": "markdown",
   "metadata": {},
   "source": [
    "The last column, class, is the target variable that we want to predict."
   ]
  },
  {
   "cell_type": "code",
   "execution_count": 5,
   "metadata": {},
   "outputs": [
    {
     "data": {
      "text/plain": [
       "252"
      ]
     },
     "execution_count": 5,
     "metadata": {},
     "output_type": "execute_result"
    }
   ],
   "source": [
    "df.id.nunique()"
   ]
  },
  {
   "cell_type": "code",
   "execution_count": 6,
   "metadata": {},
   "outputs": [
    {
     "name": "stdout",
     "output_type": "stream",
     "text": [
      "Summary of attribute datatypes:\n",
      "float64    749\n",
      "int64        6\n",
      "dtype: int64\n"
     ]
    }
   ],
   "source": [
    "print('Summary of attribute datatypes:\\n', df.dtypes.value_counts(), sep=\"\")"
   ]
  },
  {
   "cell_type": "code",
   "execution_count": 7,
   "metadata": {},
   "outputs": [
    {
     "name": "stdout",
     "output_type": "stream",
     "text": [
      "Number of null values: 0\n"
     ]
    }
   ],
   "source": [
    "print(\"Number of null values:\", df.isnull().sum().sum())"
   ]
  },
  {
   "cell_type": "markdown",
   "metadata": {},
   "source": [
    "- The data consists of 3 records for each patient. To prevent using the same patient's own data to self-predict. We should aggregate the records to make each patient as one record. \n",
    "- All the columns, except for gender, seem to be numeric. Therefore, gender will be transformed into categorical variable.\n",
    "- There's no null value in the dataset."
   ]
  },
  {
   "cell_type": "markdown",
   "metadata": {},
   "source": [
    "### Data Preprocessing"
   ]
  },
  {
   "cell_type": "code",
   "execution_count": 8,
   "metadata": {},
   "outputs": [
    {
     "data": {
      "text/html": [
       "<div>\n",
       "<style>\n",
       "    .dataframe thead tr:only-child th {\n",
       "        text-align: right;\n",
       "    }\n",
       "\n",
       "    .dataframe thead th {\n",
       "        text-align: left;\n",
       "    }\n",
       "\n",
       "    .dataframe tbody tr th {\n",
       "        vertical-align: top;\n",
       "    }\n",
       "</style>\n",
       "<table border=\"1\" class=\"dataframe\">\n",
       "  <thead>\n",
       "    <tr style=\"text-align: right;\">\n",
       "      <th></th>\n",
       "      <th>gender</th>\n",
       "      <th>PPE</th>\n",
       "      <th>DFA</th>\n",
       "      <th>RPDE</th>\n",
       "      <th>numPulses</th>\n",
       "      <th>numPeriodsPulses</th>\n",
       "      <th>meanPeriodPulses</th>\n",
       "      <th>stdDevPeriodPulses</th>\n",
       "      <th>locPctJitter</th>\n",
       "      <th>locAbsJitter</th>\n",
       "      <th>...</th>\n",
       "      <th>tqwt_kurtosisValue_dec_27</th>\n",
       "      <th>tqwt_kurtosisValue_dec_28</th>\n",
       "      <th>tqwt_kurtosisValue_dec_29</th>\n",
       "      <th>tqwt_kurtosisValue_dec_30</th>\n",
       "      <th>tqwt_kurtosisValue_dec_31</th>\n",
       "      <th>tqwt_kurtosisValue_dec_32</th>\n",
       "      <th>tqwt_kurtosisValue_dec_33</th>\n",
       "      <th>tqwt_kurtosisValue_dec_34</th>\n",
       "      <th>tqwt_kurtosisValue_dec_35</th>\n",
       "      <th>tqwt_kurtosisValue_dec_36</th>\n",
       "    </tr>\n",
       "    <tr>\n",
       "      <th>id</th>\n",
       "      <th></th>\n",
       "      <th></th>\n",
       "      <th></th>\n",
       "      <th></th>\n",
       "      <th></th>\n",
       "      <th></th>\n",
       "      <th></th>\n",
       "      <th></th>\n",
       "      <th></th>\n",
       "      <th></th>\n",
       "      <th></th>\n",
       "      <th></th>\n",
       "      <th></th>\n",
       "      <th></th>\n",
       "      <th></th>\n",
       "      <th></th>\n",
       "      <th></th>\n",
       "      <th></th>\n",
       "      <th></th>\n",
       "      <th></th>\n",
       "      <th></th>\n",
       "    </tr>\n",
       "  </thead>\n",
       "  <tbody>\n",
       "    <tr>\n",
       "      <th>0</th>\n",
       "      <td>1.0</td>\n",
       "      <td>0.823387</td>\n",
       "      <td>0.696370</td>\n",
       "      <td>0.567250</td>\n",
       "      <td>235.333333</td>\n",
       "      <td>234.333333</td>\n",
       "      <td>0.008220</td>\n",
       "      <td>0.000073</td>\n",
       "      <td>0.001963</td>\n",
       "      <td>0.000016</td>\n",
       "      <td>...</td>\n",
       "      <td>1.546500</td>\n",
       "      <td>1.561733</td>\n",
       "      <td>2.862000</td>\n",
       "      <td>12.293333</td>\n",
       "      <td>9.717500</td>\n",
       "      <td>9.055300</td>\n",
       "      <td>6.259100</td>\n",
       "      <td>4.021533</td>\n",
       "      <td>4.164333</td>\n",
       "      <td>22.961700</td>\n",
       "    </tr>\n",
       "    <tr>\n",
       "      <th>1</th>\n",
       "      <td>0.0</td>\n",
       "      <td>0.415637</td>\n",
       "      <td>0.793993</td>\n",
       "      <td>0.592453</td>\n",
       "      <td>213.333333</td>\n",
       "      <td>211.000000</td>\n",
       "      <td>0.008884</td>\n",
       "      <td>0.001849</td>\n",
       "      <td>0.005790</td>\n",
       "      <td>0.000050</td>\n",
       "      <td>...</td>\n",
       "      <td>7.049367</td>\n",
       "      <td>4.918567</td>\n",
       "      <td>4.827133</td>\n",
       "      <td>6.117633</td>\n",
       "      <td>8.599667</td>\n",
       "      <td>5.737233</td>\n",
       "      <td>7.933133</td>\n",
       "      <td>5.490533</td>\n",
       "      <td>4.941833</td>\n",
       "      <td>4.467233</td>\n",
       "    </tr>\n",
       "    <tr>\n",
       "      <th>2</th>\n",
       "      <td>1.0</td>\n",
       "      <td>0.801973</td>\n",
       "      <td>0.619967</td>\n",
       "      <td>0.520563</td>\n",
       "      <td>319.333333</td>\n",
       "      <td>318.333333</td>\n",
       "      <td>0.006041</td>\n",
       "      <td>0.000104</td>\n",
       "      <td>0.002217</td>\n",
       "      <td>0.000013</td>\n",
       "      <td>...</td>\n",
       "      <td>1.581967</td>\n",
       "      <td>41.129400</td>\n",
       "      <td>31.201933</td>\n",
       "      <td>14.584467</td>\n",
       "      <td>5.446800</td>\n",
       "      <td>3.462000</td>\n",
       "      <td>4.772067</td>\n",
       "      <td>9.176633</td>\n",
       "      <td>11.848100</td>\n",
       "      <td>5.552367</td>\n",
       "    </tr>\n",
       "    <tr>\n",
       "      <th>3</th>\n",
       "      <td>0.0</td>\n",
       "      <td>0.828707</td>\n",
       "      <td>0.626097</td>\n",
       "      <td>0.537183</td>\n",
       "      <td>493.000000</td>\n",
       "      <td>492.000000</td>\n",
       "      <td>0.003913</td>\n",
       "      <td>0.000042</td>\n",
       "      <td>0.000757</td>\n",
       "      <td>0.000003</td>\n",
       "      <td>...</td>\n",
       "      <td>2.382533</td>\n",
       "      <td>1.677633</td>\n",
       "      <td>1.908400</td>\n",
       "      <td>2.842167</td>\n",
       "      <td>3.493867</td>\n",
       "      <td>3.282433</td>\n",
       "      <td>3.085267</td>\n",
       "      <td>3.184433</td>\n",
       "      <td>4.032933</td>\n",
       "      <td>22.773633</td>\n",
       "    </tr>\n",
       "    <tr>\n",
       "      <th>4</th>\n",
       "      <td>0.0</td>\n",
       "      <td>0.831287</td>\n",
       "      <td>0.779397</td>\n",
       "      <td>0.726717</td>\n",
       "      <td>362.666667</td>\n",
       "      <td>361.666667</td>\n",
       "      <td>0.005622</td>\n",
       "      <td>0.002023</td>\n",
       "      <td>0.003593</td>\n",
       "      <td>0.000021</td>\n",
       "      <td>...</td>\n",
       "      <td>3.881267</td>\n",
       "      <td>4.104600</td>\n",
       "      <td>4.285233</td>\n",
       "      <td>2.953200</td>\n",
       "      <td>2.799933</td>\n",
       "      <td>2.645100</td>\n",
       "      <td>2.811367</td>\n",
       "      <td>7.268333</td>\n",
       "      <td>13.338833</td>\n",
       "      <td>63.766900</td>\n",
       "    </tr>\n",
       "  </tbody>\n",
       "</table>\n",
       "<p>5 rows × 753 columns</p>\n",
       "</div>"
      ],
      "text/plain": [
       "    gender       PPE       DFA      RPDE   numPulses  numPeriodsPulses  \\\n",
       "id                                                                       \n",
       "0      1.0  0.823387  0.696370  0.567250  235.333333        234.333333   \n",
       "1      0.0  0.415637  0.793993  0.592453  213.333333        211.000000   \n",
       "2      1.0  0.801973  0.619967  0.520563  319.333333        318.333333   \n",
       "3      0.0  0.828707  0.626097  0.537183  493.000000        492.000000   \n",
       "4      0.0  0.831287  0.779397  0.726717  362.666667        361.666667   \n",
       "\n",
       "    meanPeriodPulses  stdDevPeriodPulses  locPctJitter  locAbsJitter  \\\n",
       "id                                                                     \n",
       "0           0.008220            0.000073      0.001963      0.000016   \n",
       "1           0.008884            0.001849      0.005790      0.000050   \n",
       "2           0.006041            0.000104      0.002217      0.000013   \n",
       "3           0.003913            0.000042      0.000757      0.000003   \n",
       "4           0.005622            0.002023      0.003593      0.000021   \n",
       "\n",
       "              ...              tqwt_kurtosisValue_dec_27  \\\n",
       "id            ...                                          \n",
       "0             ...                               1.546500   \n",
       "1             ...                               7.049367   \n",
       "2             ...                               1.581967   \n",
       "3             ...                               2.382533   \n",
       "4             ...                               3.881267   \n",
       "\n",
       "    tqwt_kurtosisValue_dec_28  tqwt_kurtosisValue_dec_29  \\\n",
       "id                                                         \n",
       "0                    1.561733                   2.862000   \n",
       "1                    4.918567                   4.827133   \n",
       "2                   41.129400                  31.201933   \n",
       "3                    1.677633                   1.908400   \n",
       "4                    4.104600                   4.285233   \n",
       "\n",
       "    tqwt_kurtosisValue_dec_30  tqwt_kurtosisValue_dec_31  \\\n",
       "id                                                         \n",
       "0                   12.293333                   9.717500   \n",
       "1                    6.117633                   8.599667   \n",
       "2                   14.584467                   5.446800   \n",
       "3                    2.842167                   3.493867   \n",
       "4                    2.953200                   2.799933   \n",
       "\n",
       "    tqwt_kurtosisValue_dec_32  tqwt_kurtosisValue_dec_33  \\\n",
       "id                                                         \n",
       "0                    9.055300                   6.259100   \n",
       "1                    5.737233                   7.933133   \n",
       "2                    3.462000                   4.772067   \n",
       "3                    3.282433                   3.085267   \n",
       "4                    2.645100                   2.811367   \n",
       "\n",
       "    tqwt_kurtosisValue_dec_34  tqwt_kurtosisValue_dec_35  \\\n",
       "id                                                         \n",
       "0                    4.021533                   4.164333   \n",
       "1                    5.490533                   4.941833   \n",
       "2                    9.176633                  11.848100   \n",
       "3                    3.184433                   4.032933   \n",
       "4                    7.268333                  13.338833   \n",
       "\n",
       "    tqwt_kurtosisValue_dec_36  \n",
       "id                             \n",
       "0                   22.961700  \n",
       "1                    4.467233  \n",
       "2                    5.552367  \n",
       "3                   22.773633  \n",
       "4                   63.766900  \n",
       "\n",
       "[5 rows x 753 columns]"
      ]
     },
     "execution_count": 8,
     "metadata": {},
     "output_type": "execute_result"
    }
   ],
   "source": [
    "X = df.groupby('id').mean().drop(['class'], axis=1)\n",
    "y = df[['class', 'id']].groupby('id').mean()['class']\n",
    "X.head()"
   ]
  },
  {
   "cell_type": "code",
   "execution_count": 9,
   "metadata": {},
   "outputs": [
    {
     "data": {
      "text/plain": [
       "1    188\n",
       "0     64\n",
       "Name: class, dtype: int64"
      ]
     },
     "execution_count": 9,
     "metadata": {},
     "output_type": "execute_result"
    }
   ],
   "source": [
    "y.value_counts()"
   ]
  },
  {
   "cell_type": "code",
   "execution_count": 10,
   "metadata": {},
   "outputs": [],
   "source": [
    "from sklearn.model_selection import train_test_split"
   ]
  },
  {
   "cell_type": "code",
   "execution_count": 11,
   "metadata": {},
   "outputs": [],
   "source": [
    "X_train_origin, X_test_origin, y_train, y_test = train_test_split(X, y, test_size=0.2, stratify=y, random_state=91)"
   ]
  },
  {
   "cell_type": "code",
   "execution_count": 12,
   "metadata": {},
   "outputs": [],
   "source": [
    "from sklearn.preprocessing import StandardScaler"
   ]
  },
  {
   "cell_type": "code",
   "execution_count": 13,
   "metadata": {},
   "outputs": [
    {
     "data": {
      "text/html": [
       "<div>\n",
       "<style>\n",
       "    .dataframe thead tr:only-child th {\n",
       "        text-align: right;\n",
       "    }\n",
       "\n",
       "    .dataframe thead th {\n",
       "        text-align: left;\n",
       "    }\n",
       "\n",
       "    .dataframe tbody tr th {\n",
       "        vertical-align: top;\n",
       "    }\n",
       "</style>\n",
       "<table border=\"1\" class=\"dataframe\">\n",
       "  <thead>\n",
       "    <tr style=\"text-align: right;\">\n",
       "      <th></th>\n",
       "      <th>gender</th>\n",
       "      <th>PPE</th>\n",
       "      <th>DFA</th>\n",
       "      <th>RPDE</th>\n",
       "      <th>numPulses</th>\n",
       "      <th>numPeriodsPulses</th>\n",
       "      <th>meanPeriodPulses</th>\n",
       "      <th>stdDevPeriodPulses</th>\n",
       "      <th>locPctJitter</th>\n",
       "      <th>locAbsJitter</th>\n",
       "      <th>...</th>\n",
       "      <th>tqwt_kurtosisValue_dec_27</th>\n",
       "      <th>tqwt_kurtosisValue_dec_28</th>\n",
       "      <th>tqwt_kurtosisValue_dec_29</th>\n",
       "      <th>tqwt_kurtosisValue_dec_30</th>\n",
       "      <th>tqwt_kurtosisValue_dec_31</th>\n",
       "      <th>tqwt_kurtosisValue_dec_32</th>\n",
       "      <th>tqwt_kurtosisValue_dec_33</th>\n",
       "      <th>tqwt_kurtosisValue_dec_34</th>\n",
       "      <th>tqwt_kurtosisValue_dec_35</th>\n",
       "      <th>tqwt_kurtosisValue_dec_36</th>\n",
       "    </tr>\n",
       "    <tr>\n",
       "      <th>id</th>\n",
       "      <th></th>\n",
       "      <th></th>\n",
       "      <th></th>\n",
       "      <th></th>\n",
       "      <th></th>\n",
       "      <th></th>\n",
       "      <th></th>\n",
       "      <th></th>\n",
       "      <th></th>\n",
       "      <th></th>\n",
       "      <th></th>\n",
       "      <th></th>\n",
       "      <th></th>\n",
       "      <th></th>\n",
       "      <th></th>\n",
       "      <th></th>\n",
       "      <th></th>\n",
       "      <th></th>\n",
       "      <th></th>\n",
       "      <th></th>\n",
       "      <th></th>\n",
       "    </tr>\n",
       "  </thead>\n",
       "  <tbody>\n",
       "    <tr>\n",
       "      <th>44</th>\n",
       "      <td>1.0</td>\n",
       "      <td>0.805553</td>\n",
       "      <td>0.648220</td>\n",
       "      <td>0.377633</td>\n",
       "      <td>281.666667</td>\n",
       "      <td>280.666667</td>\n",
       "      <td>0.006858</td>\n",
       "      <td>0.000056</td>\n",
       "      <td>0.001410</td>\n",
       "      <td>0.000010</td>\n",
       "      <td>...</td>\n",
       "      <td>1.651067</td>\n",
       "      <td>5.498767</td>\n",
       "      <td>65.421367</td>\n",
       "      <td>31.112067</td>\n",
       "      <td>12.535600</td>\n",
       "      <td>11.071067</td>\n",
       "      <td>20.329600</td>\n",
       "      <td>25.156433</td>\n",
       "      <td>29.161867</td>\n",
       "      <td>17.512500</td>\n",
       "    </tr>\n",
       "    <tr>\n",
       "      <th>59</th>\n",
       "      <td>0.0</td>\n",
       "      <td>0.555797</td>\n",
       "      <td>0.678520</td>\n",
       "      <td>0.404007</td>\n",
       "      <td>385.666667</td>\n",
       "      <td>384.666667</td>\n",
       "      <td>0.005123</td>\n",
       "      <td>0.000797</td>\n",
       "      <td>0.001317</td>\n",
       "      <td>0.000007</td>\n",
       "      <td>...</td>\n",
       "      <td>7.057133</td>\n",
       "      <td>9.863533</td>\n",
       "      <td>22.837800</td>\n",
       "      <td>52.240733</td>\n",
       "      <td>32.964733</td>\n",
       "      <td>16.221933</td>\n",
       "      <td>20.626933</td>\n",
       "      <td>34.765767</td>\n",
       "      <td>30.866033</td>\n",
       "      <td>79.740933</td>\n",
       "    </tr>\n",
       "    <tr>\n",
       "      <th>194</th>\n",
       "      <td>0.0</td>\n",
       "      <td>0.832080</td>\n",
       "      <td>0.735363</td>\n",
       "      <td>0.253373</td>\n",
       "      <td>520.000000</td>\n",
       "      <td>519.000000</td>\n",
       "      <td>0.003712</td>\n",
       "      <td>0.000022</td>\n",
       "      <td>0.000497</td>\n",
       "      <td>0.000002</td>\n",
       "      <td>...</td>\n",
       "      <td>45.074933</td>\n",
       "      <td>15.350233</td>\n",
       "      <td>12.990033</td>\n",
       "      <td>9.733567</td>\n",
       "      <td>6.357567</td>\n",
       "      <td>7.357533</td>\n",
       "      <td>7.033400</td>\n",
       "      <td>5.928733</td>\n",
       "      <td>5.633867</td>\n",
       "      <td>5.366900</td>\n",
       "    </tr>\n",
       "    <tr>\n",
       "      <th>14</th>\n",
       "      <td>0.0</td>\n",
       "      <td>0.869927</td>\n",
       "      <td>0.786747</td>\n",
       "      <td>0.369487</td>\n",
       "      <td>399.666667</td>\n",
       "      <td>398.666667</td>\n",
       "      <td>0.004832</td>\n",
       "      <td>0.000049</td>\n",
       "      <td>0.001263</td>\n",
       "      <td>0.000006</td>\n",
       "      <td>...</td>\n",
       "      <td>1.562733</td>\n",
       "      <td>1.574833</td>\n",
       "      <td>3.143200</td>\n",
       "      <td>10.138533</td>\n",
       "      <td>6.346167</td>\n",
       "      <td>3.371900</td>\n",
       "      <td>4.953467</td>\n",
       "      <td>8.518333</td>\n",
       "      <td>8.027033</td>\n",
       "      <td>42.470633</td>\n",
       "    </tr>\n",
       "    <tr>\n",
       "      <th>7</th>\n",
       "      <td>1.0</td>\n",
       "      <td>0.529193</td>\n",
       "      <td>0.774857</td>\n",
       "      <td>0.712680</td>\n",
       "      <td>237.000000</td>\n",
       "      <td>233.000000</td>\n",
       "      <td>0.008029</td>\n",
       "      <td>0.001171</td>\n",
       "      <td>0.007440</td>\n",
       "      <td>0.000064</td>\n",
       "      <td>...</td>\n",
       "      <td>5.192333</td>\n",
       "      <td>4.354967</td>\n",
       "      <td>4.360400</td>\n",
       "      <td>5.761733</td>\n",
       "      <td>4.999867</td>\n",
       "      <td>5.014533</td>\n",
       "      <td>4.847633</td>\n",
       "      <td>5.307533</td>\n",
       "      <td>6.127767</td>\n",
       "      <td>4.733533</td>\n",
       "    </tr>\n",
       "  </tbody>\n",
       "</table>\n",
       "<p>5 rows × 753 columns</p>\n",
       "</div>"
      ],
      "text/plain": [
       "     gender       PPE       DFA      RPDE   numPulses  numPeriodsPulses  \\\n",
       "id                                                                        \n",
       "44      1.0  0.805553  0.648220  0.377633  281.666667        280.666667   \n",
       "59      0.0  0.555797  0.678520  0.404007  385.666667        384.666667   \n",
       "194     0.0  0.832080  0.735363  0.253373  520.000000        519.000000   \n",
       "14      0.0  0.869927  0.786747  0.369487  399.666667        398.666667   \n",
       "7       1.0  0.529193  0.774857  0.712680  237.000000        233.000000   \n",
       "\n",
       "     meanPeriodPulses  stdDevPeriodPulses  locPctJitter  locAbsJitter  \\\n",
       "id                                                                      \n",
       "44           0.006858            0.000056      0.001410      0.000010   \n",
       "59           0.005123            0.000797      0.001317      0.000007   \n",
       "194          0.003712            0.000022      0.000497      0.000002   \n",
       "14           0.004832            0.000049      0.001263      0.000006   \n",
       "7            0.008029            0.001171      0.007440      0.000064   \n",
       "\n",
       "               ...              tqwt_kurtosisValue_dec_27  \\\n",
       "id             ...                                          \n",
       "44             ...                               1.651067   \n",
       "59             ...                               7.057133   \n",
       "194            ...                              45.074933   \n",
       "14             ...                               1.562733   \n",
       "7              ...                               5.192333   \n",
       "\n",
       "     tqwt_kurtosisValue_dec_28  tqwt_kurtosisValue_dec_29  \\\n",
       "id                                                          \n",
       "44                    5.498767                  65.421367   \n",
       "59                    9.863533                  22.837800   \n",
       "194                  15.350233                  12.990033   \n",
       "14                    1.574833                   3.143200   \n",
       "7                     4.354967                   4.360400   \n",
       "\n",
       "     tqwt_kurtosisValue_dec_30  tqwt_kurtosisValue_dec_31  \\\n",
       "id                                                          \n",
       "44                   31.112067                  12.535600   \n",
       "59                   52.240733                  32.964733   \n",
       "194                   9.733567                   6.357567   \n",
       "14                   10.138533                   6.346167   \n",
       "7                     5.761733                   4.999867   \n",
       "\n",
       "     tqwt_kurtosisValue_dec_32  tqwt_kurtosisValue_dec_33  \\\n",
       "id                                                          \n",
       "44                   11.071067                  20.329600   \n",
       "59                   16.221933                  20.626933   \n",
       "194                   7.357533                   7.033400   \n",
       "14                    3.371900                   4.953467   \n",
       "7                     5.014533                   4.847633   \n",
       "\n",
       "     tqwt_kurtosisValue_dec_34  tqwt_kurtosisValue_dec_35  \\\n",
       "id                                                          \n",
       "44                   25.156433                  29.161867   \n",
       "59                   34.765767                  30.866033   \n",
       "194                   5.928733                   5.633867   \n",
       "14                    8.518333                   8.027033   \n",
       "7                     5.307533                   6.127767   \n",
       "\n",
       "     tqwt_kurtosisValue_dec_36  \n",
       "id                              \n",
       "44                   17.512500  \n",
       "59                   79.740933  \n",
       "194                   5.366900  \n",
       "14                   42.470633  \n",
       "7                     4.733533  \n",
       "\n",
       "[5 rows x 753 columns]"
      ]
     },
     "execution_count": 13,
     "metadata": {},
     "output_type": "execute_result"
    }
   ],
   "source": [
    "X_train_origin.head()"
   ]
  },
  {
   "cell_type": "markdown",
   "metadata": {},
   "source": [
    "### Min-Max Normalization\n",
    "For this dataset, min-max normalization, rather than z-score standardization, is used to scale the columns, because after testing both scaling methods, min-max normalization generates better prediction results in general than z-score standardization. (Specifically after applying PCA in part III.)"
   ]
  },
  {
   "cell_type": "code",
   "execution_count": 14,
   "metadata": {},
   "outputs": [],
   "source": [
    "from sklearn.preprocessing import MinMaxScaler"
   ]
  },
  {
   "cell_type": "code",
   "execution_count": 15,
   "metadata": {},
   "outputs": [
    {
     "data": {
      "text/html": [
       "<div>\n",
       "<style>\n",
       "    .dataframe thead tr:only-child th {\n",
       "        text-align: right;\n",
       "    }\n",
       "\n",
       "    .dataframe thead th {\n",
       "        text-align: left;\n",
       "    }\n",
       "\n",
       "    .dataframe tbody tr th {\n",
       "        vertical-align: top;\n",
       "    }\n",
       "</style>\n",
       "<table border=\"1\" class=\"dataframe\">\n",
       "  <thead>\n",
       "    <tr style=\"text-align: right;\">\n",
       "      <th></th>\n",
       "      <th>gender</th>\n",
       "      <th>PPE</th>\n",
       "      <th>DFA</th>\n",
       "      <th>RPDE</th>\n",
       "      <th>numPulses</th>\n",
       "      <th>numPeriodsPulses</th>\n",
       "      <th>meanPeriodPulses</th>\n",
       "      <th>stdDevPeriodPulses</th>\n",
       "      <th>locPctJitter</th>\n",
       "      <th>locAbsJitter</th>\n",
       "      <th>...</th>\n",
       "      <th>tqwt_kurtosisValue_dec_27</th>\n",
       "      <th>tqwt_kurtosisValue_dec_28</th>\n",
       "      <th>tqwt_kurtosisValue_dec_29</th>\n",
       "      <th>tqwt_kurtosisValue_dec_30</th>\n",
       "      <th>tqwt_kurtosisValue_dec_31</th>\n",
       "      <th>tqwt_kurtosisValue_dec_32</th>\n",
       "      <th>tqwt_kurtosisValue_dec_33</th>\n",
       "      <th>tqwt_kurtosisValue_dec_34</th>\n",
       "      <th>tqwt_kurtosisValue_dec_35</th>\n",
       "      <th>tqwt_kurtosisValue_dec_36</th>\n",
       "    </tr>\n",
       "  </thead>\n",
       "  <tbody>\n",
       "    <tr>\n",
       "      <th>0</th>\n",
       "      <td>1.0</td>\n",
       "      <td>0.884133</td>\n",
       "      <td>0.312568</td>\n",
       "      <td>0.290505</td>\n",
       "      <td>0.375000</td>\n",
       "      <td>0.386113</td>\n",
       "      <td>0.430159</td>\n",
       "      <td>0.015896</td>\n",
       "      <td>0.083782</td>\n",
       "      <td>0.089808</td>\n",
       "      <td>...</td>\n",
       "      <td>0.000645</td>\n",
       "      <td>0.021381</td>\n",
       "      <td>0.441067</td>\n",
       "      <td>0.310147</td>\n",
       "      <td>0.138180</td>\n",
       "      <td>0.140455</td>\n",
       "      <td>0.298894</td>\n",
       "      <td>0.419466</td>\n",
       "      <td>0.588747</td>\n",
       "      <td>0.159022</td>\n",
       "    </tr>\n",
       "    <tr>\n",
       "      <th>1</th>\n",
       "      <td>0.0</td>\n",
       "      <td>0.434591</td>\n",
       "      <td>0.415229</td>\n",
       "      <td>0.332193</td>\n",
       "      <td>0.577073</td>\n",
       "      <td>0.588579</td>\n",
       "      <td>0.221931</td>\n",
       "      <td>0.294102</td>\n",
       "      <td>0.076923</td>\n",
       "      <td>0.063297</td>\n",
       "      <td>...</td>\n",
       "      <td>0.024818</td>\n",
       "      <td>0.044873</td>\n",
       "      <td>0.146870</td>\n",
       "      <td>0.534226</td>\n",
       "      <td>0.418453</td>\n",
       "      <td>0.219766</td>\n",
       "      <td>0.303777</td>\n",
       "      <td>0.596052</td>\n",
       "      <td>0.626075</td>\n",
       "      <td>0.835806</td>\n",
       "    </tr>\n",
       "    <tr>\n",
       "      <th>2</th>\n",
       "      <td>0.0</td>\n",
       "      <td>0.931879</td>\n",
       "      <td>0.607822</td>\n",
       "      <td>0.094084</td>\n",
       "      <td>0.838083</td>\n",
       "      <td>0.850097</td>\n",
       "      <td>0.052751</td>\n",
       "      <td>0.003006</td>\n",
       "      <td>0.016659</td>\n",
       "      <td>0.009525</td>\n",
       "      <td>...</td>\n",
       "      <td>0.194813</td>\n",
       "      <td>0.074404</td>\n",
       "      <td>0.078835</td>\n",
       "      <td>0.083418</td>\n",
       "      <td>0.053422</td>\n",
       "      <td>0.083276</td>\n",
       "      <td>0.080533</td>\n",
       "      <td>0.066127</td>\n",
       "      <td>0.073387</td>\n",
       "      <td>0.026930</td>\n",
       "    </tr>\n",
       "    <tr>\n",
       "      <th>3</th>\n",
       "      <td>0.0</td>\n",
       "      <td>1.000000</td>\n",
       "      <td>0.781916</td>\n",
       "      <td>0.277627</td>\n",
       "      <td>0.604275</td>\n",
       "      <td>0.615834</td>\n",
       "      <td>0.187128</td>\n",
       "      <td>0.013128</td>\n",
       "      <td>0.073003</td>\n",
       "      <td>0.053288</td>\n",
       "      <td>...</td>\n",
       "      <td>0.000250</td>\n",
       "      <td>0.000262</td>\n",
       "      <td>0.010806</td>\n",
       "      <td>0.087713</td>\n",
       "      <td>0.053265</td>\n",
       "      <td>0.021906</td>\n",
       "      <td>0.046374</td>\n",
       "      <td>0.113715</td>\n",
       "      <td>0.125807</td>\n",
       "      <td>0.430462</td>\n",
       "    </tr>\n",
       "    <tr>\n",
       "      <th>4</th>\n",
       "      <td>1.0</td>\n",
       "      <td>0.386707</td>\n",
       "      <td>0.741631</td>\n",
       "      <td>0.820119</td>\n",
       "      <td>0.288212</td>\n",
       "      <td>0.293316</td>\n",
       "      <td>0.570659</td>\n",
       "      <td>0.434922</td>\n",
       "      <td>0.526948</td>\n",
       "      <td>0.647352</td>\n",
       "      <td>...</td>\n",
       "      <td>0.016480</td>\n",
       "      <td>0.015225</td>\n",
       "      <td>0.019215</td>\n",
       "      <td>0.041295</td>\n",
       "      <td>0.034795</td>\n",
       "      <td>0.047199</td>\n",
       "      <td>0.044636</td>\n",
       "      <td>0.054711</td>\n",
       "      <td>0.084205</td>\n",
       "      <td>0.020041</td>\n",
       "    </tr>\n",
       "  </tbody>\n",
       "</table>\n",
       "<p>5 rows × 753 columns</p>\n",
       "</div>"
      ],
      "text/plain": [
       "  gender       PPE       DFA      RPDE  numPulses  numPeriodsPulses  \\\n",
       "0    1.0  0.884133  0.312568  0.290505   0.375000          0.386113   \n",
       "1    0.0  0.434591  0.415229  0.332193   0.577073          0.588579   \n",
       "2    0.0  0.931879  0.607822  0.094084   0.838083          0.850097   \n",
       "3    0.0  1.000000  0.781916  0.277627   0.604275          0.615834   \n",
       "4    1.0  0.386707  0.741631  0.820119   0.288212          0.293316   \n",
       "\n",
       "   meanPeriodPulses  stdDevPeriodPulses  locPctJitter  locAbsJitter  \\\n",
       "0          0.430159            0.015896      0.083782      0.089808   \n",
       "1          0.221931            0.294102      0.076923      0.063297   \n",
       "2          0.052751            0.003006      0.016659      0.009525   \n",
       "3          0.187128            0.013128      0.073003      0.053288   \n",
       "4          0.570659            0.434922      0.526948      0.647352   \n",
       "\n",
       "             ...              tqwt_kurtosisValue_dec_27  \\\n",
       "0            ...                               0.000645   \n",
       "1            ...                               0.024818   \n",
       "2            ...                               0.194813   \n",
       "3            ...                               0.000250   \n",
       "4            ...                               0.016480   \n",
       "\n",
       "   tqwt_kurtosisValue_dec_28  tqwt_kurtosisValue_dec_29  \\\n",
       "0                   0.021381                   0.441067   \n",
       "1                   0.044873                   0.146870   \n",
       "2                   0.074404                   0.078835   \n",
       "3                   0.000262                   0.010806   \n",
       "4                   0.015225                   0.019215   \n",
       "\n",
       "   tqwt_kurtosisValue_dec_30  tqwt_kurtosisValue_dec_31  \\\n",
       "0                   0.310147                   0.138180   \n",
       "1                   0.534226                   0.418453   \n",
       "2                   0.083418                   0.053422   \n",
       "3                   0.087713                   0.053265   \n",
       "4                   0.041295                   0.034795   \n",
       "\n",
       "   tqwt_kurtosisValue_dec_32  tqwt_kurtosisValue_dec_33  \\\n",
       "0                   0.140455                   0.298894   \n",
       "1                   0.219766                   0.303777   \n",
       "2                   0.083276                   0.080533   \n",
       "3                   0.021906                   0.046374   \n",
       "4                   0.047199                   0.044636   \n",
       "\n",
       "   tqwt_kurtosisValue_dec_34  tqwt_kurtosisValue_dec_35  \\\n",
       "0                   0.419466                   0.588747   \n",
       "1                   0.596052                   0.626075   \n",
       "2                   0.066127                   0.073387   \n",
       "3                   0.113715                   0.125807   \n",
       "4                   0.054711                   0.084205   \n",
       "\n",
       "   tqwt_kurtosisValue_dec_36  \n",
       "0                   0.159022  \n",
       "1                   0.835806  \n",
       "2                   0.026930  \n",
       "3                   0.430462  \n",
       "4                   0.020041  \n",
       "\n",
       "[5 rows x 753 columns]"
      ]
     },
     "execution_count": 15,
     "metadata": {},
     "output_type": "execute_result"
    }
   ],
   "source": [
    "scaler = MinMaxScaler()\n",
    "scaler.fit(X_train_origin)\n",
    "X_train = pd.DataFrame(scaler.transform(X_train_origin))\n",
    "X_train.columns = X_train_origin.columns\n",
    "X_train['gender'] = X_train['gender'].astype('category')\n",
    "X_train.head()"
   ]
  },
  {
   "cell_type": "code",
   "execution_count": 16,
   "metadata": {},
   "outputs": [
    {
     "data": {
      "text/html": [
       "<div>\n",
       "<style>\n",
       "    .dataframe thead tr:only-child th {\n",
       "        text-align: right;\n",
       "    }\n",
       "\n",
       "    .dataframe thead th {\n",
       "        text-align: left;\n",
       "    }\n",
       "\n",
       "    .dataframe tbody tr th {\n",
       "        vertical-align: top;\n",
       "    }\n",
       "</style>\n",
       "<table border=\"1\" class=\"dataframe\">\n",
       "  <thead>\n",
       "    <tr style=\"text-align: right;\">\n",
       "      <th></th>\n",
       "      <th>gender</th>\n",
       "      <th>PPE</th>\n",
       "      <th>DFA</th>\n",
       "      <th>RPDE</th>\n",
       "      <th>numPulses</th>\n",
       "      <th>numPeriodsPulses</th>\n",
       "      <th>meanPeriodPulses</th>\n",
       "      <th>stdDevPeriodPulses</th>\n",
       "      <th>locPctJitter</th>\n",
       "      <th>locAbsJitter</th>\n",
       "      <th>...</th>\n",
       "      <th>tqwt_kurtosisValue_dec_27</th>\n",
       "      <th>tqwt_kurtosisValue_dec_28</th>\n",
       "      <th>tqwt_kurtosisValue_dec_29</th>\n",
       "      <th>tqwt_kurtosisValue_dec_30</th>\n",
       "      <th>tqwt_kurtosisValue_dec_31</th>\n",
       "      <th>tqwt_kurtosisValue_dec_32</th>\n",
       "      <th>tqwt_kurtosisValue_dec_33</th>\n",
       "      <th>tqwt_kurtosisValue_dec_34</th>\n",
       "      <th>tqwt_kurtosisValue_dec_35</th>\n",
       "      <th>tqwt_kurtosisValue_dec_36</th>\n",
       "    </tr>\n",
       "  </thead>\n",
       "  <tbody>\n",
       "    <tr>\n",
       "      <th>0</th>\n",
       "      <td>1.0</td>\n",
       "      <td>0.383671</td>\n",
       "      <td>0.533633</td>\n",
       "      <td>0.978892</td>\n",
       "      <td>0.086140</td>\n",
       "      <td>0.083063</td>\n",
       "      <td>0.567523</td>\n",
       "      <td>0.343307</td>\n",
       "      <td>1.110240</td>\n",
       "      <td>1.228684</td>\n",
       "      <td>...</td>\n",
       "      <td>0.000172</td>\n",
       "      <td>0.000548</td>\n",
       "      <td>0.442600</td>\n",
       "      <td>0.718863</td>\n",
       "      <td>0.760094</td>\n",
       "      <td>0.681884</td>\n",
       "      <td>0.638935</td>\n",
       "      <td>0.673738</td>\n",
       "      <td>0.710756</td>\n",
       "      <td>0.766840</td>\n",
       "    </tr>\n",
       "    <tr>\n",
       "      <th>1</th>\n",
       "      <td>1.0</td>\n",
       "      <td>0.763082</td>\n",
       "      <td>0.586206</td>\n",
       "      <td>0.465564</td>\n",
       "      <td>0.925518</td>\n",
       "      <td>0.937703</td>\n",
       "      <td>0.017372</td>\n",
       "      <td>0.074079</td>\n",
       "      <td>0.217785</td>\n",
       "      <td>0.102961</td>\n",
       "      <td>...</td>\n",
       "      <td>0.067715</td>\n",
       "      <td>0.062257</td>\n",
       "      <td>0.034724</td>\n",
       "      <td>0.027647</td>\n",
       "      <td>0.018053</td>\n",
       "      <td>0.032739</td>\n",
       "      <td>0.104072</td>\n",
       "      <td>0.163105</td>\n",
       "      <td>0.182861</td>\n",
       "      <td>0.580103</td>\n",
       "    </tr>\n",
       "    <tr>\n",
       "      <th>2</th>\n",
       "      <td>0.0</td>\n",
       "      <td>0.515107</td>\n",
       "      <td>0.044193</td>\n",
       "      <td>0.344808</td>\n",
       "      <td>0.609456</td>\n",
       "      <td>0.620376</td>\n",
       "      <td>0.180199</td>\n",
       "      <td>0.033295</td>\n",
       "      <td>0.052425</td>\n",
       "      <td>0.038495</td>\n",
       "      <td>...</td>\n",
       "      <td>0.043537</td>\n",
       "      <td>0.006181</td>\n",
       "      <td>0.007842</td>\n",
       "      <td>0.008888</td>\n",
       "      <td>0.002388</td>\n",
       "      <td>0.028748</td>\n",
       "      <td>0.021211</td>\n",
       "      <td>0.033425</td>\n",
       "      <td>0.075417</td>\n",
       "      <td>0.115032</td>\n",
       "    </tr>\n",
       "    <tr>\n",
       "      <th>3</th>\n",
       "      <td>1.0</td>\n",
       "      <td>0.315862</td>\n",
       "      <td>0.325126</td>\n",
       "      <td>0.702071</td>\n",
       "      <td>0.279145</td>\n",
       "      <td>0.290071</td>\n",
       "      <td>0.608980</td>\n",
       "      <td>0.027366</td>\n",
       "      <td>0.158501</td>\n",
       "      <td>0.202478</td>\n",
       "      <td>...</td>\n",
       "      <td>0.002921</td>\n",
       "      <td>0.002929</td>\n",
       "      <td>0.017553</td>\n",
       "      <td>0.052975</td>\n",
       "      <td>0.069480</td>\n",
       "      <td>0.029004</td>\n",
       "      <td>0.014975</td>\n",
       "      <td>0.021460</td>\n",
       "      <td>0.026557</td>\n",
       "      <td>0.155453</td>\n",
       "    </tr>\n",
       "    <tr>\n",
       "      <th>4</th>\n",
       "      <td>0.0</td>\n",
       "      <td>0.163061</td>\n",
       "      <td>0.606264</td>\n",
       "      <td>0.480797</td>\n",
       "      <td>0.456606</td>\n",
       "      <td>0.467878</td>\n",
       "      <td>0.339511</td>\n",
       "      <td>0.576415</td>\n",
       "      <td>0.109995</td>\n",
       "      <td>0.107368</td>\n",
       "      <td>...</td>\n",
       "      <td>0.150706</td>\n",
       "      <td>0.050214</td>\n",
       "      <td>0.031369</td>\n",
       "      <td>0.034521</td>\n",
       "      <td>0.043515</td>\n",
       "      <td>0.053383</td>\n",
       "      <td>0.051387</td>\n",
       "      <td>0.315965</td>\n",
       "      <td>0.413887</td>\n",
       "      <td>0.448506</td>\n",
       "    </tr>\n",
       "  </tbody>\n",
       "</table>\n",
       "<p>5 rows × 753 columns</p>\n",
       "</div>"
      ],
      "text/plain": [
       "  gender       PPE       DFA      RPDE  numPulses  numPeriodsPulses  \\\n",
       "0    1.0  0.383671  0.533633  0.978892   0.086140          0.083063   \n",
       "1    1.0  0.763082  0.586206  0.465564   0.925518          0.937703   \n",
       "2    0.0  0.515107  0.044193  0.344808   0.609456          0.620376   \n",
       "3    1.0  0.315862  0.325126  0.702071   0.279145          0.290071   \n",
       "4    0.0  0.163061  0.606264  0.480797   0.456606          0.467878   \n",
       "\n",
       "   meanPeriodPulses  stdDevPeriodPulses  locPctJitter  locAbsJitter  \\\n",
       "0          0.567523            0.343307      1.110240      1.228684   \n",
       "1          0.017372            0.074079      0.217785      0.102961   \n",
       "2          0.180199            0.033295      0.052425      0.038495   \n",
       "3          0.608980            0.027366      0.158501      0.202478   \n",
       "4          0.339511            0.576415      0.109995      0.107368   \n",
       "\n",
       "             ...              tqwt_kurtosisValue_dec_27  \\\n",
       "0            ...                               0.000172   \n",
       "1            ...                               0.067715   \n",
       "2            ...                               0.043537   \n",
       "3            ...                               0.002921   \n",
       "4            ...                               0.150706   \n",
       "\n",
       "   tqwt_kurtosisValue_dec_28  tqwt_kurtosisValue_dec_29  \\\n",
       "0                   0.000548                   0.442600   \n",
       "1                   0.062257                   0.034724   \n",
       "2                   0.006181                   0.007842   \n",
       "3                   0.002929                   0.017553   \n",
       "4                   0.050214                   0.031369   \n",
       "\n",
       "   tqwt_kurtosisValue_dec_30  tqwt_kurtosisValue_dec_31  \\\n",
       "0                   0.718863                   0.760094   \n",
       "1                   0.027647                   0.018053   \n",
       "2                   0.008888                   0.002388   \n",
       "3                   0.052975                   0.069480   \n",
       "4                   0.034521                   0.043515   \n",
       "\n",
       "   tqwt_kurtosisValue_dec_32  tqwt_kurtosisValue_dec_33  \\\n",
       "0                   0.681884                   0.638935   \n",
       "1                   0.032739                   0.104072   \n",
       "2                   0.028748                   0.021211   \n",
       "3                   0.029004                   0.014975   \n",
       "4                   0.053383                   0.051387   \n",
       "\n",
       "   tqwt_kurtosisValue_dec_34  tqwt_kurtosisValue_dec_35  \\\n",
       "0                   0.673738                   0.710756   \n",
       "1                   0.163105                   0.182861   \n",
       "2                   0.033425                   0.075417   \n",
       "3                   0.021460                   0.026557   \n",
       "4                   0.315965                   0.413887   \n",
       "\n",
       "   tqwt_kurtosisValue_dec_36  \n",
       "0                   0.766840  \n",
       "1                   0.580103  \n",
       "2                   0.115032  \n",
       "3                   0.155453  \n",
       "4                   0.448506  \n",
       "\n",
       "[5 rows x 753 columns]"
      ]
     },
     "execution_count": 16,
     "metadata": {},
     "output_type": "execute_result"
    }
   ],
   "source": [
    "X_test = pd.DataFrame(scaler.transform(X_test_origin[X_test_origin.columns]))\n",
    "X_test.columns = X_test_origin.columns\n",
    "X_test['gender'] = X_test['gender'].astype('category')\n",
    "X_test.head()"
   ]
  },
  {
   "cell_type": "code",
   "execution_count": 17,
   "metadata": {},
   "outputs": [
    {
     "data": {
      "text/plain": [
       "1    150\n",
       "0     51\n",
       "Name: class, dtype: int64"
      ]
     },
     "execution_count": 17,
     "metadata": {},
     "output_type": "execute_result"
    }
   ],
   "source": [
    "y_train.value_counts()"
   ]
  },
  {
   "cell_type": "code",
   "execution_count": 18,
   "metadata": {
    "scrolled": true
   },
   "outputs": [
    {
     "data": {
      "text/plain": [
       "1    38\n",
       "0    13\n",
       "Name: class, dtype: int64"
      ]
     },
     "execution_count": 18,
     "metadata": {},
     "output_type": "execute_result"
    }
   ],
   "source": [
    "y_test.value_counts()"
   ]
  },
  {
   "cell_type": "markdown",
   "metadata": {},
   "source": [
    "### Problem Definition\n",
    "**Input:** $X \\in \\mathbb{R}^{d}, d = 243$\n",
    "\n",
    "**Output:** $Y = \\{0, 1\\}$\n",
    "\n",
    "**Classifier:** Calssification uses a function $f$ (called a classifier) to map input $x$ to class $y$. \n",
    "\n",
    "$y = f(x) : f$ takes in $x \\in X$ and declares its class to be $y \\in Y$"
   ]
  },
  {
   "cell_type": "markdown",
   "metadata": {},
   "source": [
    "## II. Modeling"
   ]
  },
  {
   "cell_type": "markdown",
   "metadata": {},
   "source": [
    "### 1. k-Nearest Neighbors Classifier (kNN)\n",
    "KNNs classify the unseen instance based on the K points in the training set which are nearest to it. It is a **non-parametric method**. \n",
    "\n",
    "#### Non-parametric Models\n",
    "Non-parametric models differ from parametric models in that the model structure is not specified a priori but is instead determined from data. The term non-parametric is not meant to imply that such models completely lack parameters but that the number and nature of the parameters are flexible and not fixed in advance.\n",
    "\n",
    "Source: https://en.wikipedia.org/wiki/Nonparametric_statistics#Non-parametric_models\n",
    "\n",
    "#### Algorithm\n",
    "Given data $(x_1, y_1),...,(x_n, y_n)$, construct the $k$-NN classifier as follows:\n",
    "For a new input $s$,\n",
    "1. Return the $k$ points closest to $x$, indexed as $x_{i_1},...x_{i_k}$.\n",
    "2. Return the majority-vote of $y_{i_1}, y_{i_2},..., y_{i_k}$.\n",
    "The default distance for data in $\\mathbb{R}^d$ is the Euclidean one:\n",
    "$$\\|u-v\\|_2 = \\big(\\sum_{i=1}^{d}(u_i-v_i)^2\\big)^\\frac{1}{2}$$"
   ]
  },
  {
   "cell_type": "code",
   "execution_count": 19,
   "metadata": {},
   "outputs": [],
   "source": [
    "from sklearn.neighbors import KNeighborsClassifier\n",
    "from sklearn.model_selection import GridSearchCV\n",
    "from sklearn.metrics import accuracy_score\n",
    "from sklearn.metrics import roc_auc_score"
   ]
  },
  {
   "cell_type": "code",
   "execution_count": 20,
   "metadata": {},
   "outputs": [
    {
     "name": "stdout",
     "output_type": "stream",
     "text": [
      "Best Number of Neighbors: {'n_neighbors': 10}\n",
      "Accuracy on Training Set: 0.825870646766\n",
      "Accuracy on Test Set: 0.803921568627\n",
      "AUC: 0.839068825911\n"
     ]
    }
   ],
   "source": [
    "param_grid = {'n_neighbors': np.arange(3, 13)}\n",
    "gs_kNN = GridSearchCV(KNeighborsClassifier(), param_grid, cv=5)\n",
    "gs_kNN.fit(X_train, y_train)\n",
    "print(\"Best Number of Neighbors:\", gs_kNN.best_params_)\n",
    "print(\"Accuracy on Training Set:\", gs_kNN.best_score_)\n",
    "\n",
    "y_pred_prob = gs_kNN.predict_proba(X_test)[:,1]\n",
    "print(\"Accuracy on Test Set:\", gs_kNN.score(X_test, y_test))\n",
    "print(\"AUC:\", roc_auc_score(y_test, y_pred_prob))"
   ]
  },
  {
   "cell_type": "markdown",
   "metadata": {},
   "source": [
    "#### Observe how the accuracy change as k grows\n",
    "Note: The accuracy is different from the results from grid search because the whole training set is used to fit the model."
   ]
  },
  {
   "cell_type": "code",
   "execution_count": 21,
   "metadata": {},
   "outputs": [],
   "source": [
    "# Compute training and test errors by k\n",
    "training_error = list()\n",
    "test_error = list()\n",
    "for k in np.arange(3, 13):\n",
    "    knn = KNeighborsClassifier(n_neighbors=k)\n",
    "    knn.fit(X_train, y_train)\n",
    "    training_error.append(knn.score(X_train, y_train))\n",
    "    test_error.append(knn.score(X_test, y_test))"
   ]
  },
  {
   "cell_type": "code",
   "execution_count": 22,
   "metadata": {},
   "outputs": [
    {
     "data": {
      "image/png": "[encoded data removed]",
      "text/plain": [
       "<matplotlib.figure.Figure at 0x224cfd48fd0>"
      ]
     },
     "metadata": {
      "needs_background": "light"
     },
     "output_type": "display_data"
    }
   ],
   "source": [
    "plt.plot(training_error, label = 'Training set accuracy')\n",
    "plt.plot(test_error, label = 'Test set accuracy')\n",
    "plt.legend()\n",
    "plt.xticks(np.arange(0, 10), np.arange(3, 13))\n",
    "plt.show()"
   ]
  },
  {
   "cell_type": "markdown",
   "metadata": {},
   "source": [
    "### 2. Naive Bayes \n",
    "\n",
    "With Naive Bayes classifier we predict the class of a new $x$ to be the most probable lable given model and training data $(x_1, y_1), ..., (x_n, y_n)$.\n",
    "\n",
    "#### Bayes Classifier\n",
    "Before talking about the algorithm of Naive Bayes, we need to know **Bayes Classifer**:\n",
    "\n",
    "$$f(x) = \\operatorname*{arg\\,max}_{y \\in Y} P(Y = y| X = x)$$\n",
    "\n",
    "For a particular input $x$, predict the label to be the most probable label conditioned on $x$ according to the true underlying distribution given to us from nature.\n",
    "\n",
    "#### Bayes Rule: \n",
    "$$p(y|x) = \\frac{p(x|y)p(y)}{p(x)}$$\n",
    "\n",
    "From Bayes rule we equivalently have\n",
    "$$ f(x) \\approx \\operatorname*{arg\\,max}_{y \\in Y} P(Y = y) \\times P(X = x | Y = y) $$\n",
    "- $P(Y = y)$ is called the $\\textit{class prior}$.\n",
    "- $P(X = x|Y = y)$ is called the $\\textit{class conditional distribution}$ of X.\n",
    "- In practice we don't know either of these, so we approximate them.\n",
    "\n",
    "Aside: If $X$ is a continuous-valued random variable, replace $P(X = x|Y = y)$ with class conditional density $p(x|Y=y)$.\n",
    "\n",
    "Problem: We can't construct the Bayes classifier without knowing $P(Y = y|X = x)$, or equv., $P(X = x|Y = y)$ and $P(Y = y)$. All we have are labeled examples drowm from the distribution.\n",
    "\n",
    "#### Naive Bayes Algorithm\n",
    "We have to $\\textit{define } p(X = x|Y = y)$.\n",
    "\n",
    "Naive Bayes is a Bayes classifier that makes the assumption\n",
    "$$p(X = x|Y = y) = \\prod_{j=1}^{d}p_j(x(j)|Y = y),$$\n",
    "i.e., it treats the dimension of $X$ as $\\textit{conditionally independent}$ given $y$. \n",
    "\n",
    "Note: Each dimension might not be independent with each other, but they are conditionally independent given y.\n",
    "\n",
    "#### Discriminative Model vs. Generative Model\n",
    "\n",
    "Bayes Classifer and Naive Bayes are ***generative models***. Unlike distriminative models, generative models consider the joint probability distribution on $X \\times y, P(X, y)$, make the prediction on the probability of each lable $y$ given $X$, $p(y|X = x)$, and then **pick the most likely lable $y$**.\n",
    "\n",
    "##### Discriminative Algorithms\n",
    "- Idea: model $p(y|x)$, conditional distribution of $y$ given $x$.\n",
    "- In Discriminative Algorithms: find a **decision boundary** that separates positive from negative example.\n",
    "- To predict a new example, check on which side of the decision boundary it falls.\n",
    "- **Model $p(y|x)$ directly**\n",
    "\n",
    "##### Generative Algorithms\n",
    "- Idea: Build a model for what positive examples look like and build a different model for what negative example look like.\n",
    "- To predict a new example, match it with each of the models and see which match is best.\n",
    "- Model $p(x|y)$ and $p(y)$!\n",
    "- **Use Bayes rule to obtain $p(y|x) = \\frac{p(x|y)p(y)}{p(x)}$**\n",
    "\n",
    "The definition of generative and distriminative models:\n",
    "- a generative model is a model of the conditional probability of the observable $X$, given a target $y$, symbolically, $P(X|Y=y)$\n",
    "- a discriminative model is a model of the conditional probability of the target $Y$, given an observation $x$, symbolically, $P(Y|X=x)$\n",
    "\n",
    "source: https://en.wikipedia.org/wiki/Generative_model#Definition\n",
    "\n"
   ]
  },
  {
   "cell_type": "code",
   "execution_count": 23,
   "metadata": {},
   "outputs": [],
   "source": [
    "from sklearn.naive_bayes import GaussianNB"
   ]
  },
  {
   "cell_type": "code",
   "execution_count": 24,
   "metadata": {},
   "outputs": [
    {
     "name": "stdout",
     "output_type": "stream",
     "text": [
      "Accuracy on training set: 0.786069651741\n",
      "Accuracy on test set: 0.823529411765\n",
      "AUC: 0.882591093117\n"
     ]
    }
   ],
   "source": [
    "gnb = GaussianNB()\n",
    "gnb.fit(X_train, y_train)\n",
    "y_pred_prob = gnb.predict_proba(X_test)[:,1]\n",
    "\n",
    "print(\"Accuracy on training set:\", gnb.score(X_train, y_train))\n",
    "print(\"Accuracy on test set:\", gnb.score(X_test, y_test))\n",
    "print(\"AUC:\", roc_auc_score(y_test, y_pred_prob))"
   ]
  },
  {
   "cell_type": "markdown",
   "metadata": {},
   "source": [
    "### 3. Logistic Regression\n",
    "Let $(x_1, y_1),...,(x_n, y_n)$ be a set of binary labeled data with $y \\in {-1, +1}$. $\\textit{Logistic regression}$ models each $y_i$ as independently generated, with\n",
    "\n",
    "$$P(y_i = +1|x_i, w) = \\sigma(x_i^Tw), \\ \\ \\sigma(x_i; w) = \\frac{e^{x_iTw}}{1 + e^{x_iTw}}.$$\n",
    "\n",
    "#### Sigmoid Function\n",
    "From **Linear Discriminative Analysis**, we can directly plug in the **hyperplane representation** for the **log odds**. ***(See Appendix A: Concepts for Logistic Regression & Appendix B: Linear Classifiers)***\n",
    "\n",
    "$$\\ln\\frac{p(y = +1|x)}{p(y = -1|x)} = x^Tw + w_0$$\n",
    "\n",
    "Note: No restrictions on $w$ and $w_0$ compared to LDA.\n",
    "\n",
    "Setting $p(y = -1|x) = 1 - p(y = -1|x)$, solve for $p(y = +1|x)$ to find \n",
    "$$ p(y = +1|x) = \\frac{exp^{x^Tw + w_0}}{1 + exp^{x^Tw + w_0}} = \\sigma(x^tw + w_0). $$\n",
    "\n",
    "- This is called the sigmoid function\n",
    "- We have chosen $x^Tw + w_0$ as the $\\textit{link function}$ for log odds.\n",
    "- If $x^Tw > 0$, then $\\sigma(x^Tw) > 1/2$ and predict $y = +1$, and vice versa.\n",
    "- We now get **a confidence in our prediction** via the probability of $\\sigma (x^Tw)$.\n",
    "\n",
    "\n",
    "#### Maximum Likelihood Estimation\n",
    "\n",
    "Define $\\sigma_i(w) = \\sigma(x_i^Tw)$. The joint likihood of $y_1,...y_n$ is\n",
    "$$p(y_1,...,y_n|x_1,...,x_n, w) = \\prod_{i=1}^{n}p(y_i|x_i, w)\n",
    "= \\prod_{i=1}^{n}\\sigma_i(w)^{\\mathbb{I}(y_i=+1)}(1-\\sigma_i(w))^{\\mathbb{I}(y_i=-1)} \n",
    "= \\prod_{i=1}^{n}\\sigma_i(y_i \\cdot w)$$\n",
    "\n",
    "Note: here y = {+1, -1}\n",
    "\n",
    "we want to maximize this over $w$.\n",
    "\n",
    "The maximum likelihood solution for $w$ can be written \n",
    "$$ w_{ML} = \\operatorname*{arg\\,max}_{w} \\sum_{i=1}^{n}\\ln\\sigma_i(y_i\\cdot w)\n",
    "= \\operatorname*{arg\\,max}_{w} L $$\n",
    "\n",
    "We can't directly set $\\nabla_w L = 0$, so we need an iterative algorithm. At step $t$, we can update\n",
    "$$ w^{(t+1)}=w^{(t)}+\\eta\\nabla_wL \\ \\ \\nabla_wL = \\sum_{i=1}{n}(1-\\sigma_i(y_i\\cdot w))y_ix_i $$\n",
    "\n",
    "\n",
    "#### Algorithm\n",
    "\n",
    "**Input**: Training data $(x_1, y_1),...,(x_n, y_n)$ and step size $\\eta > 0$\n",
    "1. **Set** $w^{(1)} = \\overrightarrow{0}$\n",
    "2. **For step** $t = 1,2,...$ **do**\n",
    "    - Update $w^{(t+1)} = w^{(t)} + \\eta\\sum_{i=1}^{n}(1-\\sigma_i(y_i\\cdot w))y_ix_i$"
   ]
  },
  {
   "cell_type": "code",
   "execution_count": 25,
   "metadata": {},
   "outputs": [],
   "source": [
    "from sklearn.linear_model import LogisticRegression"
   ]
  },
  {
   "cell_type": "code",
   "execution_count": 26,
   "metadata": {
    "scrolled": true
   },
   "outputs": [
    {
     "name": "stdout",
     "output_type": "stream",
     "text": [
      "Best Parameters: {'C': 1, 'penalty': 'l2', 'tol': 0.0001, 'max_iter': 100}\n",
      "Accuracy on Training Set: 0.8407960199\n",
      "Accuracy on Test Set: 0.862745098039\n",
      "AUC: 0.868421052632\n",
      "Wall time: 24.6 s\n"
     ]
    }
   ],
   "source": [
    "%%time\n",
    "# Build logistic model with L2 regularization\n",
    "param_grid = {'penalty': ['l1', 'l2'],\n",
    "              'C': [0.1, 1, 10, 100], \n",
    "              'tol': [1e-4, 1e-5], \n",
    "              'max_iter': [100, 500]}\n",
    "gs_lr = GridSearchCV(LogisticRegression(), param_grid, cv=5)\n",
    "gs_lr.fit(X_train, y_train)\n",
    "print(\"Best Parameters:\", gs_lr.best_params_)\n",
    "print(\"Accuracy on Training Set:\", gs_lr.best_score_)\n",
    "\n",
    "y_pred_prob = gs_lr.predict_proba(X_test)[:,1]\n",
    "print(\"Accuracy on Test Set:\", gs_lr.score(X_test, y_test))\n",
    "print(\"AUC:\", roc_auc_score(y_test, y_pred_prob))"
   ]
  },
  {
   "cell_type": "code",
   "execution_count": 27,
   "metadata": {},
   "outputs": [
    {
     "name": "stdout",
     "output_type": "stream",
     "text": [
      "[ 0.9965379   0.99630913  0.19536443  0.93574275  0.98994636]\n",
      "[1 1 0 1 1]\n",
      "id\n",
      "214    1\n",
      "108    1\n",
      "250    0\n",
      "10     1\n",
      "200    1\n",
      "Name: class, dtype: int64\n"
     ]
    }
   ],
   "source": [
    "y_pred = gs_lr.predict(X_test)\n",
    "print(y_pred_prob[:5])\n",
    "print(y_pred[:5])\n",
    "print(y_test[:5])"
   ]
  },
  {
   "cell_type": "code",
   "execution_count": 28,
   "metadata": {},
   "outputs": [
    {
     "name": "stdout",
     "output_type": "stream",
     "text": [
      "Threshold: 0.3, Accuracy: 0.8627450980392157\n",
      "Threshold: 0.4, Accuracy: 0.8627450980392157\n",
      "Threshold: 0.5, Accuracy: 0.8627450980392157\n",
      "Threshold: 0.6, Accuracy: 0.803921568627451\n",
      "Threshold: 0.7, Accuracy: 0.803921568627451\n",
      "Threshold: 0.8, Accuracy: 0.7450980392156863\n"
     ]
    }
   ],
   "source": [
    "# Moving the threshold does not improve prediction\n",
    "for t in [0.3, 0.4, 0.5, 0.6, 0.7, 0.8]:\n",
    "    y_pred_rev = [1 if i > t else 0 for i in y_pred_prob]\n",
    "    print('Threshold: {}, Accuracy: {}'.format(t, accuracy_score(y_pred_rev, y_test)))"
   ]
  },
  {
   "cell_type": "markdown",
   "metadata": {},
   "source": [
    "### 4. Support Vector Machine\n",
    "\n",
    "With two linearly separable classes, choose a hyperplane such that its distance to the **closest point in each class** is maximized to achieve good generalization (low prediction error).\n",
    "\n",
    "#### Convex Sets and Convex Hulls\n",
    "Where a seperating hyperplane may be placed depends on the \"outer\" points on the sets. Points in the center do not matter. In geometric terms, we can represent each class by the smallest convex set which contains all point in the class. This is called a $\\textit{convex hull}$.\n",
    "\n",
    "A convex hull is defined by all possible weighted averages of points in a set. That is, let $x_1,...x_n$ be the data coordinates. Every point $x_0$ in the convex hull can be reached by setting\n",
    "$$ x_0 = \\sum_{i=1}^{n}\\alpha_ix_i, \\ \\ \\alpha_i \\geq0, \\ \\ \\sum_{i=1}^{n}\\alpha_i = 1,$$\n",
    "for some $(\\alpha_1,...\\alpha_n)$. No point outside the convex hull can be reached this way.\n",
    "\n",
    "#### Algorithm\n",
    "For $n$ seperate points $(x_1,y_1),...,(x_n,y_n)$ with $y_i \\in {\\pm1}$, solve:\n",
    "$$ \\min_{w, w_0} \\frac{1}{2}\\|w\\|^2 $$\n",
    "subject to\n",
    "$$ y_i(x_i^Tw + w_0) \\geq 1 \\ \\ for\\ i = 1,...,n$$\n",
    "\n",
    "- If there exists a hyperplan $H$ that separates the classes, we can scale $w$ so that $y_i(x_i^Tw+w_0)>1$ for all $i$.\n",
    "- This formula only has a solution when the classes are linearly separable.\n",
    "\n",
    "Solving above foluma would require $\\textit{Lagrange multipliers}$. After derived with $\\textit{Lagrange multipliers}$, the formula will eventually turn into:\n",
    "$$\\min_{\\alpha_1,...\\alpha_n}\\bigg|\\bigg(\\sum_{i\\in S_1}\\frac{\\alpha_i}{C}x_i\\bigg) - \n",
    "\\bigg(\\sum_{j\\in S_0}\\frac{\\alpha_j}{C}x_j\\bigg)\\bigg|^2,$$\n",
    "where \n",
    "- $S_i$ and $S_0$ are the sets of $x$ in class $+1$ and $-1$\n",
    "- $C:=\\sum_{i\\in S_1}\\alpha_u = \\sum_{j\\in S_0}\\alpha_j,\\ \\ \\alpha_i\\geq0$\n",
    "\n",
    "Therefore, the algorithm is to find the closest points in the convex hulls constructed from the data in class $+1$ and $-1$.\n",
    "\n",
    "#### Soft-Margin SVM\n",
    "\n",
    "If the data isn't linearly separable, permit training data be on wrong side of hyperplane at a cost by replacing the training rule $y_i(x_i^Tw + w_0) \\geq 1$  with \n",
    "$$y_i(x_i^Tw+w_0)\\geq 1 - \\xi_i, \\ \\ with \\ \\ \\xi_i \\geq0.$$\n",
    "\n",
    "The $\\xi_i$ are also called $\\textit{slack variables}.$\n",
    "\n",
    "The function therefore becomes:\n",
    "$$ \\min_{w, w_0,\\xi_1,...\\xi_n} \\frac{1}{2}\\|w\\|^2 + \\lambda\\sum_{i=1}^{n}\\xi_i$$\n",
    "subject to\n",
    "$$ y_i(x_i^Tw + w_0) \\geq 1 - \\xi_i \\ \\ for\\ i = 1,...,n$$\n",
    "$$ \\xi_i \\geq 0 \\ \\ for \\ \\ i = 1,...,n$$\n",
    "\n",
    "- If $\\lambda$ is very small, we're happy to misclassify.\n",
    "- For $\\lambda \\rightarrow \\infty$, we recover the original SVM because we want $\\xi_i=0$.\n",
    "- We can use cross-valudation to choose $\\lambda$"
   ]
  },
  {
   "cell_type": "code",
   "execution_count": 29,
   "metadata": {},
   "outputs": [],
   "source": [
    "from sklearn.svm import SVC\n",
    "from sklearn.svm import LinearSVC"
   ]
  },
  {
   "cell_type": "code",
   "execution_count": 30,
   "metadata": {},
   "outputs": [
    {
     "name": "stdout",
     "output_type": "stream",
     "text": [
      "Best Parameters: {'C': 1, 'tol': 0.0001}\n",
      "Accuracy on Training Set: 0.810945273632\n",
      "Accuracy on Test Set: 0.803921568627\n",
      "AUC: 0.803643724696\n",
      "Wall time: 22.8 s\n"
     ]
    }
   ],
   "source": [
    "%%time\n",
    "#l2 penalty\n",
    "param_grid = {'tol': [1e-4, 1e-5, 1e-6],\n",
    "              'C': [0.1, 1, 10],\n",
    "              #'max_iter': [500, 1000, 1500]\n",
    "             }\n",
    "gs_lsvc = GridSearchCV(SVC(kernel ='linear', probability=True), param_grid, cv=5)\n",
    "gs_lsvc.fit(X_train, y_train)\n",
    "print(\"Best Parameters:\", gs_lsvc.best_params_)\n",
    "print(\"Accuracy on Training Set:\", gs_lsvc.best_score_)\n",
    "\n",
    "y_pred_prob = gs_lsvc.predict_proba(X_test)[:,1]\n",
    "print(\"Accuracy on Test Set:\", gs_lsvc.score(X_test, y_test))\n",
    "print(\"AUC:\", roc_auc_score(y_test, y_pred_prob))"
   ]
  },
  {
   "cell_type": "code",
   "execution_count": 31,
   "metadata": {},
   "outputs": [],
   "source": [
    "import warnings"
   ]
  },
  {
   "cell_type": "code",
   "execution_count": 32,
   "metadata": {},
   "outputs": [
    {
     "name": "stdout",
     "output_type": "stream",
     "text": [
      "Best Parameters: {'C': 0.1}\n",
      "Accuracy on Training Set: 0.791044776119\n",
      "Accuracy on Test Set: 0.78431372549\n"
     ]
    }
   ],
   "source": [
    "warnings.simplefilter('ignore')\n",
    "#l1 penalty\n",
    "lsvc = LinearSVC(loss='l2', penalty='l1', dual=False)\n",
    "gs_lsvc_l1 = GridSearchCV(lsvc, {'C': [0.1, 1, 10]}, cv=5)\n",
    "gs_lsvc_l1.fit(X_train, y_train)\n",
    "print(\"Best Parameters:\", gs_lsvc_l1.best_params_)\n",
    "print(\"Accuracy on Training Set:\", gs_lsvc_l1.best_score_)\n",
    "print(\"Accuracy on Test Set:\", gs_lsvc_l1.score(X_test, y_test))\n",
    "# LinearSVC does not return probability of prediction to calculate AUC"
   ]
  },
  {
   "cell_type": "markdown",
   "metadata": {},
   "source": [
    "### 5. Kernelizing SVM\n",
    "\n",
    "#### Kernel\n",
    "A kernel $K(\\cdot,\\cdot) : \\mathbb{R}^d \\times \\mathbb{R}^d \\rightarrow \\mathbb{R}$ is a symmetric function defined as follows:\n",
    "\n",
    "For any set of $n$ data points $x_1,...,x_n \\in \\mathbb{R}^d$, the $n\\times n$ matrix $K$, where $K_{ij} = K(x_i, x_j)$, is $\\textit{positive semidefinite}$. (Note: The output of the kernel function is greater or equal to 0.)\n",
    "\n",
    "Intuitively, this means $K$ satisfies the properties of a covariance matrix.\n",
    "\n",
    "#### Mercer's theorem\n",
    "If the function $K(\\cdot,\\cdot)$ satisfies the above properties, then there exists a mapping $\\phi:\\mathbb{R}^d\\rightarrow\\mathbb{R}^D$ such that\n",
    "$$k(x_i, x_j) = \\phi(x_i)^T\\phi(x_j).$$\n",
    "\n",
    "(Note: If this is satisfied for every single set of n vectors in $\\mathbb{R}^d$ where $n$ is arbitrary and the vectors themselves are arbitrary, **then there exists some function** $\\phi$, which is a function that takes in any particular $x$ and it performs the same function on that particular $x$ to map it to another space. And we can then have this dot product representation of the kernel function.)\n",
    "\n",
    "If we first define $\\phi(\\cdot)$, the mapping function, and then $K$, then this is obvious. However, sometimes we first define $K(\\cdot,\\cdot)$ and avoid ever using $\\phi(\\cdot)$.\n",
    "\n",
    "(Note: We use kernel to get results of the dot products of two $x_i$ and $x_j$ mapped to a higher place without actually mapping the $x_i$ and $x_j$ and calculating the dot product.)\n",
    "\n",
    "#### RBF\n",
    "By far the most popular kernel is the Gaussian kernel, also called the radiial basis function (RBF),\n",
    "$$ K(x, x') = \\alpha \\ exp\\big\\{ - \\frac{1}{b}\\|x-x'\\|^2 \\big\\}. $$\n",
    "\n",
    "- It takes into account proximity in $\\mathbb{R}^d$. Things close together in space have larger value (as defined by kernel width $b$).\n",
    "\n",
    "In this case, the mapping $\\phi(x)$ that produces the RBF kernel is $\\textit{infinite dimensional}$ (it's a continuous function instead of a vector). Therefore\n",
    "$$K(x,x') = \\int\\phi_t(x)\\phi_t(x')dt.$$\n",
    "\n",
    "(Note: there's a function of $x$ and $t$ such that this kernel results by integratign the product of those two functions.)\n",
    "- $K(x,x')$ is like a Gaussian on $x$ with $x'$ as the mean (or vice versa).\n",
    "\n",
    "#### Algorithm\n",
    "Map the data into higher dimension using the function $\\phi(x_i)$,\n",
    "$$ \\min_{w, w_0,\\xi_1,...\\xi_n} \\frac{1}{2}\\|w\\|^2 + \\lambda\\sum_{i=1}^{n}\\xi_i$$\n",
    "subject to\n",
    "$$ y_i(\\phi(x_i)^Tw + w_0) \\geq 1 - \\xi_i \\ \\ for\\ i = 1,...,n$$\n",
    "$$ \\xi_i \\geq 0 \\ \\ for \\ \\ i = 1,...,n$$\n",
    "\n",
    "To classify a new point:\n",
    "$$ y_0 = sign\\big(\\sum_{i=1}^{n}\\alpha_iy_i\\phi(x_0)T\\phi(x_i)+w_0)\\big)=\n",
    "sign(\\sum_{i=1}^{n}\\alpha_iy_iK(x_0,x_i)+w_0\\big)$$\n",
    "\n",
    "- We're still learning a linear classifier, in the higher dimensional map space, but when we look at what the decision is in the original space, we get non-linear decision boundaries.\n",
    "- In practice, we choose a kernel function (e.g., RBF) and use cross-validation for $\\lambda$ parameter and RBF kernel width."
   ]
  },
  {
   "cell_type": "code",
   "execution_count": 33,
   "metadata": {},
   "outputs": [
    {
     "name": "stdout",
     "output_type": "stream",
     "text": [
      "Best Parameters: {'C': 10, 'tol': 0.001, 'gamma': 0.01}\n",
      "Accuracy on Training Set: 0.820895522388\n",
      "Accuracy on Test Set: 0.862745098039\n",
      "AUC: 0.878542510121\n",
      "Wall time: 2min 52s\n"
     ]
    }
   ],
   "source": [
    "%%time\n",
    "param_grid = {'C': [0.01, 0.1, 1, 10, 100],\n",
    "              'gamma': [1e-2, 1/753, 1e-4, 1e-5],\n",
    "              'tol': [1e-3, 1e-4, 1e-5],\n",
    "              #'max_iter': [500, 1000]\n",
    "             }\n",
    "gs_svc = GridSearchCV(SVC(probability=True), param_grid, cv=5)\n",
    "gs_svc.fit(X_train, y_train)\n",
    "print(\"Best Parameters:\", gs_svc.best_params_)\n",
    "print(\"Accuracy on Training Set:\", gs_svc.best_score_)\n",
    "\n",
    "y_pred_prob = gs_svc.predict_proba(X_test)[:,1]\n",
    "print(\"Accuracy on Test Set:\", gs_svc.score(X_test, y_test))\n",
    "print(\"AUC:\", roc_auc_score(y_test, y_pred_prob))"
   ]
  },
  {
   "cell_type": "markdown",
   "metadata": {},
   "source": [
    "So far support vector machine with kernel generates the best results."
   ]
  },
  {
   "cell_type": "markdown",
   "metadata": {},
   "source": [
    "### 6. Decision Tree\n",
    "A decision tree maps input $x \\in \\mathbb{R}^d$ to output $y$ using binary decision rules:\n",
    "- Each node in the tree has a splitting rule.\n",
    "- Each leaf node is associated with an output value (outputs can repeat)\n",
    "\n",
    "Each splitting rule is of the form $h(x) = \\mathbb{I}\\{x_j>t\\}$ for some dimension $j$ of $x$ and $t\\in\\mathbb{R}$. Using these transition rules, a path to a leaf node gives the prediction.\n",
    "\n",
    "The basic method for learning tree is with a top-down greedy algorithm. Measure of quality of prediction include\n",
    "1. Classificataion error: $1 - \\max_kp_k$\n",
    "2. Gini index: $1 - \\sum_{k}p_k^2$\n",
    "3. Entrophy: $-\\sum_{k}p_k\\ln p_k$"
   ]
  },
  {
   "cell_type": "code",
   "execution_count": 34,
   "metadata": {},
   "outputs": [],
   "source": [
    "from sklearn.tree import DecisionTreeClassifier"
   ]
  },
  {
   "cell_type": "code",
   "execution_count": 35,
   "metadata": {},
   "outputs": [
    {
     "name": "stdout",
     "output_type": "stream",
     "text": [
      "Best Parameters: {'criterion': 'gini', 'max_depth': 5, 'min_samples_split': 2}\n",
      "Accuracy on Training Set: 0.796019900498\n",
      "Accuracy on Test Set: 0.725490196078\n",
      "AUC: 0.644736842105\n",
      "Wall time: 37 s\n"
     ]
    }
   ],
   "source": [
    "%%time\n",
    "param_grid = {'criterion': ['gini', 'entropy'],\n",
    "              'max_depth': [3, 5, 8, None],\n",
    "              'min_samples_split': [2, 3, 5]}\n",
    "gs_dt = GridSearchCV(DecisionTreeClassifier(), param_grid, cv=5)\n",
    "gs_dt.fit(X_train, y_train)\n",
    "print(\"Best Parameters:\", gs_dt.best_params_)\n",
    "print(\"Accuracy on Training Set:\", gs_dt.best_score_)\n",
    "\n",
    "y_pred_prob = gs_dt.predict_proba(X_test)[:,1]\n",
    "print(\"Accuracy on Test Set:\", gs_dt.score(X_test, y_test))\n",
    "print(\"AUC:\", roc_auc_score(y_test, y_pred_prob))"
   ]
  },
  {
   "cell_type": "markdown",
   "metadata": {},
   "source": [
    "## III. Model Improvement\n",
    "\n",
    "Now there are 753 features, including 752 numeric features, in the dataset. Considering the massive number of features, using dimension reduction method to reduce features and leave only more discriminative ones would improve modeling speed and potentially prediction performance.\n",
    "\n",
    "### PCA\n",
    "Principle component analysis is often used for dimension reduction. Imagine we're given data in $R^d$, where $d$ is very high-dimensional, and we don't think that the information fills all of those dimensions. We can **take all the information contained in that high-dimensional space and map it to a much lower-dimensional space, where we don't lose much information**. \n",
    "\n",
    "#### Algorithm - The First Principal Component\n",
    "This is related to the problem of finding the largest eigenvalue,\n",
    "$$q = \\operatorname*{arg\\,min}_{q} \\sum_{i=1}^{n}\\|x_i - qq^Tx_i\\|^2 \\ \\ \\ \\  s.t.\\ \\ q^Tq = 1 $$\n",
    "$$ = \\operatorname*{arg\\,min}_{q} \\sum_{i=1}^{n}x_i^Tx_i - q^T\\big(\\sum_{i=1}^{n}x_ix_i^T\\big)q$$\n",
    "$$\\sum_{i=1}^{n}x_ix_i^T = XX^T$$\n",
    "\n",
    "We define $X = [x_1,...,x_n]$. Since the first term doesn't depend on $q$ and we have a negative sing in front of the second term, equivalently we solve \n",
    "$$q = \\operatorname*{arg\\,max}_{q} q^T(XX^T)q \\ \\ \\ \\ subject to \\ \\ q^Tq = 1$$\n",
    "\n",
    "This is the eigendecomposition problem:\n",
    "- $q$ is the first eigenvector of $XX^T$\n",
    "- $\\lambda = q^T(XX^T)q$ is the first eigenvalue\n",
    "\n",
    "\n",
    "#### Algorithm - General\n",
    "The general form of PCA considers $K$ eigenvectors,\n",
    "$$q = \\operatorname*{arg\\,min}_{q} \\sum_{i=1}^{n}\\|x_i - \\sum_{k=1}^{K}(x_i^Tq_k)q_k\\|^2 \\ \\ \\ \\  s.t.\\ \\ q^Tq = 1, k = k'; q^Tq = 0, k \\neq k' $$\n",
    "$$ = \\operatorname*{arg\\,min}_{q} \\sum_{i=1}^{n}x_i^Tx_i - \\sum_{k=1}^{K}q_k^T \\big(\\sum_{i=1}^{n}x_ix_i^T\\big)q_k$$\n",
    "$$\\sum_{i=1}^{n}x_ix_i^T = XX^T$$\n",
    "\n",
    "The vectors in $Q = [q_i,...,q_k]$ give us a $K$ dimensional subspace with which to represent the data:\n",
    "$$x_{proj} = \\begin{bmatrix}\n",
    "               q_1^Tx \\\\\n",
    "               \\vdots \\\\\n",
    "               q_K^Tx\n",
    "             \\end{bmatrix}, x \\approx \\sum_{k=1}^{K}(q_k^Tx)q_k = Qx_{proj}$$\n",
    "             \n",
    "The eigenvectors of $(XX^T)$ can be learned as below."
   ]
  },
  {
   "cell_type": "code",
   "execution_count": 36,
   "metadata": {},
   "outputs": [],
   "source": [
    "from sklearn.decomposition import PCA"
   ]
  },
  {
   "cell_type": "code",
   "execution_count": 37,
   "metadata": {},
   "outputs": [],
   "source": [
    "X = df.groupby('id').mean().drop(['class'], axis=1)\n",
    "y = df[['id', 'class']].groupby('id').mean()['class']\n",
    "X_train, X_test, y_train, y_test = train_test_split(X, y, test_size=0.2, stratify=y, random_state=91)"
   ]
  },
  {
   "cell_type": "code",
   "execution_count": 38,
   "metadata": {},
   "outputs": [
    {
     "data": {
      "text/plain": [
       "PCA(copy=True, iterated_power='auto', n_components=None, random_state=None,\n",
       "  svd_solver='auto', tol=0.0, whiten=False)"
      ]
     },
     "execution_count": 38,
     "metadata": {},
     "output_type": "execute_result"
    }
   ],
   "source": [
    "scaler = MinMaxScaler()\n",
    "pca = PCA()\n",
    "pca.fit(scaler.fit_transform(X))"
   ]
  },
  {
   "cell_type": "code",
   "execution_count": 39,
   "metadata": {},
   "outputs": [
    {
     "data": {
      "text/html": [
       "<div>\n",
       "<style>\n",
       "    .dataframe thead tr:only-child th {\n",
       "        text-align: right;\n",
       "    }\n",
       "\n",
       "    .dataframe thead th {\n",
       "        text-align: left;\n",
       "    }\n",
       "\n",
       "    .dataframe tbody tr th {\n",
       "        vertical-align: top;\n",
       "    }\n",
       "</style>\n",
       "<table border=\"1\" class=\"dataframe\">\n",
       "  <thead>\n",
       "    <tr style=\"text-align: right;\">\n",
       "      <th></th>\n",
       "      <th>variance_ratio</th>\n",
       "      <th>cumulated_ratio</th>\n",
       "    </tr>\n",
       "  </thead>\n",
       "  <tbody>\n",
       "    <tr>\n",
       "      <th>0</th>\n",
       "      <td>0.200985</td>\n",
       "      <td>0.200985</td>\n",
       "    </tr>\n",
       "    <tr>\n",
       "      <th>1</th>\n",
       "      <td>0.131812</td>\n",
       "      <td>0.332797</td>\n",
       "    </tr>\n",
       "    <tr>\n",
       "      <th>2</th>\n",
       "      <td>0.083290</td>\n",
       "      <td>0.416087</td>\n",
       "    </tr>\n",
       "    <tr>\n",
       "      <th>3</th>\n",
       "      <td>0.060048</td>\n",
       "      <td>0.476135</td>\n",
       "    </tr>\n",
       "    <tr>\n",
       "      <th>4</th>\n",
       "      <td>0.039805</td>\n",
       "      <td>0.515941</td>\n",
       "    </tr>\n",
       "  </tbody>\n",
       "</table>\n",
       "</div>"
      ],
      "text/plain": [
       "   variance_ratio  cumulated_ratio\n",
       "0        0.200985         0.200985\n",
       "1        0.131812         0.332797\n",
       "2        0.083290         0.416087\n",
       "3        0.060048         0.476135\n",
       "4        0.039805         0.515941"
      ]
     },
     "execution_count": 39,
     "metadata": {},
     "output_type": "execute_result"
    }
   ],
   "source": [
    "df_pca = pd.DataFrame({'variance_ratio': pca.explained_variance_ratio_})\n",
    "df_pca['cumulated_ratio'] = df_pca['variance_ratio'].cumsum()\n",
    "df_pca.head()"
   ]
  },
  {
   "cell_type": "code",
   "execution_count": 40,
   "metadata": {},
   "outputs": [
    {
     "data": {
      "image/png": "[encoded data removed]",
      "text/plain": [
       "<matplotlib.figure.Figure at 0x224d13439e8>"
      ]
     },
     "metadata": {
      "needs_background": "light"
     },
     "output_type": "display_data"
    }
   ],
   "source": [
    "plt.bar(df_pca.index[:100], df_pca['variance_ratio'][:100])\n",
    "plt.show()"
   ]
  },
  {
   "cell_type": "code",
   "execution_count": 41,
   "metadata": {},
   "outputs": [
    {
     "data": {
      "image/png": "[encoded data removed]",
      "text/plain": [
       "<matplotlib.figure.Figure at 0x224cfe9c6a0>"
      ]
     },
     "metadata": {
      "needs_background": "light"
     },
     "output_type": "display_data"
    }
   ],
   "source": [
    "plt.bar(df_pca.index[:100], df_pca['cumulated_ratio'][:100])\n",
    "plt.show()"
   ]
  },
  {
   "cell_type": "code",
   "execution_count": 42,
   "metadata": {},
   "outputs": [
    {
     "name": "stdout",
     "output_type": "stream",
     "text": [
      "Top 26 features explains 0.8 of the variance.\n",
      "Top 39 features explains 0.85 of the variance.\n",
      "Top 58 features explains 0.9 of the variance.\n",
      "Top 92 features explains 0.95 of the variance.\n"
     ]
    }
   ],
   "source": [
    "for i in [0.8, 0.85, 0.9, 0.95]:\n",
    "    print('Top {} features explains {} of the variance.'.format(df_pca[df_pca['cumulated_ratio'] > i].index[0], i))"
   ]
  },
  {
   "cell_type": "markdown",
   "metadata": {},
   "source": [
    "### Transformer\n",
    "Build a transformer that apply PCA on numerical columns and convert gender to catetorical problem.\n",
    "\n",
    "***Note 1: Tried to build transformer but it doesn't work in pipeline. As the test set in GridSearchCV would regenerate a smaller n_component that is equal to the sample size of test set.***\n",
    "\n",
    "\n",
    "***Note 2: Tried to exclude gender to do PCA and run models in Model Selection section. However, the result is not better, and sometimes even worse, than the results of running PCA with gender included.***\n",
    "\n",
    "Therefore, in the following pipelines, no specific transformer is needed as gender will be processed as a numerical variable in scaler, PCA, and modeling."
   ]
  },
  {
   "cell_type": "code",
   "execution_count": 43,
   "metadata": {},
   "outputs": [],
   "source": [
    "# from sklearn.base import BaseEstimator, TransformerMixin"
   ]
  },
  {
   "cell_type": "code",
   "execution_count": 44,
   "metadata": {},
   "outputs": [],
   "source": [
    "# class PCAexclGender(BaseEstimator, TransformerMixin):\n",
    "    \n",
    "#     def __init__( self, n_components=10 ):\n",
    "#         self.n_components = n_components\n",
    "    \n",
    "#     def fit(self, X, y=None):\n",
    "#         return self\n",
    "    \n",
    "#     def transform(self, X, y=None):\n",
    "#         X_withoutGender = X.drop(['gender'], axis=1)\n",
    "#         scaler=MinMaxScaler()\n",
    "#         pca=PCA(n_components=self.n_components)\n",
    "#         X_pca = pd.DataFrame(pca.fit_transform(scaler.fit_transform(X_withoutGender)))\n",
    "#         X_pca['gender'] = pd.Series(X.gender.values).astype('category')\n",
    "        \n",
    "#         return X_pca"
   ]
  },
  {
   "cell_type": "code",
   "execution_count": 45,
   "metadata": {},
   "outputs": [],
   "source": [
    "# scaler_test = PCAexclGender()\n",
    "# scaler_test.fit(X_train)\n",
    "# scaler_test.transform(X_train)\n",
    "# #scaler_test\n",
    "# #X_scaler_test = scaler_test.transform(X_test)\n",
    "# #X_scaler_test"
   ]
  },
  {
   "cell_type": "markdown",
   "metadata": {},
   "source": [
    "### Pipeline\n",
    "Use pipeline on standard scaler, PCA, and SVC, the best model so far, to see if there's any improvement."
   ]
  },
  {
   "cell_type": "code",
   "execution_count": 46,
   "metadata": {},
   "outputs": [],
   "source": [
    "from sklearn.pipeline import Pipeline"
   ]
  },
  {
   "cell_type": "code",
   "execution_count": 47,
   "metadata": {},
   "outputs": [
    {
     "name": "stdout",
     "output_type": "stream",
     "text": [
      "Best Parameters: {'SVC__max_iter': 500, 'PCA__n_components': 80, 'SVC__tol': 0.001, 'SVC__gamma': 0.01, 'SVC__C': 10}\n",
      "Accuracy on Training Set: 0.825870646766\n",
      "Accuracy on Test Set: 0.882352941176\n",
      "AUC: 0.872469635628\n",
      "Wall time: 24min 59s\n"
     ]
    }
   ],
   "source": [
    "%%time\n",
    "pipeline = Pipeline([('Scaler', MinMaxScaler()),\n",
    "                     ('PCA', PCA()),\n",
    "                     ('SVC', SVC(probability=True))])\n",
    "parameters = {'PCA__n_components': [80, 100, 120, 150],\n",
    "              'SVC__C': [0.01, 0.1, 1, 10, 100],\n",
    "              'SVC__gamma': [1e-2, 1e-3, 1e-4, 1e-5],\n",
    "              'SVC__tol': [1e-3, 1e-4, 1e-5],\n",
    "              'SVC__max_iter': [500, -1]\n",
    "             }\n",
    "gs_pca_svc = GridSearchCV(pipeline, param_grid=parameters, cv=5)\n",
    "gs_pca_svc.fit(X_train, y_train)\n",
    "print(\"Best Parameters:\", gs_pca_svc.best_params_)\n",
    "print(\"Accuracy on Training Set:\", gs_pca_svc.best_score_)\n",
    "\n",
    "y_pred_prob = gs_pca_svc.predict_proba(X_test)[:,1]\n",
    "print(\"Accuracy on Test Set:\", gs_pca_svc.score(X_test, y_test))\n",
    "print(\"AUC:\", roc_auc_score(y_test, y_pred_prob))"
   ]
  },
  {
   "cell_type": "markdown",
   "metadata": {},
   "source": [
    "After adding new features and applying PCA, the accuracy on test set improved. See next cell for improvements on other models."
   ]
  },
  {
   "cell_type": "markdown",
   "metadata": {},
   "source": [
    "## IV. Model Selection"
   ]
  },
  {
   "cell_type": "markdown",
   "metadata": {},
   "source": [
    "Apply pipeline on all models to compare the best performance on accuracy and AUC with a narrow-lown list.\n",
    "\n",
    "***Note: Some models with best parameters roughly identified through plentiful times of running would have a shorter list of parameters to search.***"
   ]
  },
  {
   "cell_type": "code",
   "execution_count": 60,
   "metadata": {},
   "outputs": [
    {
     "name": "stdout",
     "output_type": "stream",
     "text": [
      "Best Parameters of SVM: {'SVC__max_iter': 500, 'PCA__n_components': 80, 'SVC__tol': 0.001, 'SVC__gamma': 0.01, 'SVC__C': 10}\n",
      "Accuracy on Training Set: 0.820895522388\n",
      "Accuracy on Test Set: 0.882352941176\n",
      "AUC: 0.882591093117\n",
      "\n",
      "\n",
      "Best Parameters of SVM-L1: {'PCA__n_components': 80, 'SVC__C': 0.1}\n",
      "Accuracy on Training Set: 0.835820895522\n",
      "Accuracy on Test Set: 0.823529411765\n",
      "\n",
      "\n",
      "Best Parameters of SVM-L2: {'PCA__n_components': 80, 'SVC__tol': 0.0001, 'SVC__C': 0.1}\n",
      "Accuracy on Training Set: 0.81592039801\n",
      "Accuracy on Test Set: 0.882352941176\n",
      "AUC: 0.904858299595\n",
      "\n",
      "\n",
      "Best Parameters of Decision Tree: {'PCA__n_components': 100, 'DT__criterion': 'gini', 'DT__min_samples_split': 3, 'DT__max_depth': 3}\n",
      "Accuracy on Training Set: 0.805970149254\n",
      "Accuracy on Test Set: 0.78431372549\n",
      "AUC: 0.716599190283\n",
      "\n",
      "\n",
      "Best Parameters of Naive Bayes: {'PCA__n_components': 80}\n",
      "Accuracy on Training Set: 0.791044776119\n",
      "Accuracy on Test Set: 0.823529411765\n",
      "AUC: 0.844129554656\n",
      "\n",
      "\n",
      "Best Parameters of Logistic Regression: {'LR__C': 0.1, 'PCA__n_components': 100, 'LR__tol': 0.001, 'LR__penalty': 'l2'}\n",
      "Accuracy on Training Set: 0.845771144279\n",
      "Accuracy on Test Set: 0.862745098039\n",
      "AUC: 0.888663967611\n",
      "\n",
      "\n",
      "Wall time: 4min 7s\n"
     ]
    }
   ],
   "source": [
    "%%time\n",
    "warnings.simplefilter('ignore')\n",
    "kNN = GridSearchCV(Pipeline([('Scaler', MinMaxScaler()), \n",
    "                             ('PCA', PCA()), ('kNN', KNeighborsClassifier())]),\n",
    "                   param_grid={'PCA__n_components': [80, 100],\n",
    "                               'kNN__n_neighbors': np.arange(3, 6)}, cv=5)\n",
    "\n",
    "NB = GridSearchCV(Pipeline([('scaler', MinMaxScaler()), ('PCA', PCA()), ('NB', GaussianNB())]),\n",
    "                  param_grid={'PCA__n_components': [80, 100]}, cv=5)\n",
    "\n",
    "LR = GridSearchCV(Pipeline([('Scaler', MinMaxScaler()), \n",
    "                            ('PCA', PCA()), ('LR', LogisticRegression())]),\n",
    "                  param_grid={'PCA__n_components': [80, 100],\n",
    "                              'LR__penalty': ['l1', 'l2'],\n",
    "                              'LR__C': [0.01, 0.1, 1],\n",
    "                              'LR__tol': [1e-3, 1e-4, 1e-5], \n",
    "                              #'LR__max_iter': [100, 150]\n",
    "                             }, cv=5)\n",
    "\n",
    "SVM2 = GridSearchCV(Pipeline([('Scaler', MinMaxScaler()), \n",
    "                              ('PCA', PCA()), ('SVC', SVC(kernel='linear', probability=True))]),\n",
    "                    param_grid={'PCA__n_components': [80, 100],\n",
    "                                'SVC__tol': [1e-4],\n",
    "                                'SVC__C': [0.01, 0.1, 1],\n",
    "                                #'SVC__max_iter': [500, 1000, 1500]\n",
    "                               }, cv=5)\n",
    "\n",
    "SVM1 = GridSearchCV(Pipeline([('Scaler', MinMaxScaler()), ('PCA', PCA()), \n",
    "                              ('SVC', LinearSVC(loss='l2', penalty='l1', dual=False))]),\n",
    "                    param_grid={'PCA__n_components': [80, 100],\n",
    "                                'SVC__C': [0.1, 1, 10]}, cv=5)\n",
    "\n",
    "SVM = GridSearchCV(Pipeline([('Scaler', MinMaxScaler()), ('PCA', PCA()),\n",
    "                             ('SVC', SVC(probability=True))]),\n",
    "                   param_grid={'PCA__n_components': [80, 100],\n",
    "                               'SVC__C': [1, 10, 100],\n",
    "                               'SVC__gamma': [1e-2, 1e-3],\n",
    "                               'SVC__tol': [1e-3],\n",
    "                               'SVC__max_iter': [500]\n",
    "                              }, cv=5)\n",
    "\n",
    "DT = GridSearchCV(Pipeline([('Scaler', MinMaxScaler()), \n",
    "                            ('PCA', PCA()), ('DT', DecisionTreeClassifier())]),\n",
    "                  param_grid={'PCA__n_components': [80, 100],\n",
    "                              'DT__criterion': ['gini', 'entropy'],\n",
    "                              'DT__max_depth': [3, 5, 8, None],\n",
    "                              'DT__min_samples_split': [2, 3, 5]}, cv=5)\n",
    "\n",
    "models = {'Naive Bayes': NB, 'Logistic Regression': LR, \n",
    "          'SVM-L2': SVM2, 'SVM-L1': SVM1, 'SVM': SVM, 'Decision Tree': DT}\n",
    "\n",
    "for k in models:\n",
    "    models[k].fit(X_train, y_train)\n",
    "    print(\"Best Parameters of {}:\".format(k), models[k].best_params_)\n",
    "    print(\"Accuracy on Training Set:\", models[k].best_score_)\n",
    "    print(\"Accuracy on Test Set:\", models[k].score(X_test, y_test))\n",
    "    if k not in ['SVM-L1']:\n",
    "        print(\"AUC:\", roc_auc_score(y_test, models[k].predict_proba(X_test)[:,1]))\n",
    "    print(\"\\n\")"
   ]
  },
  {
   "cell_type": "code",
   "execution_count": 49,
   "metadata": {},
   "outputs": [],
   "source": [
    "# %%time\n",
    "# LR = GridSearchCV(Pipeline([('Scaler', MinMaxScaler()), \n",
    "#                             ('PCA', PCA()), ('LR', LogisticRegression())]),\n",
    "#                   param_grid={'PCA__n_components': [80, 100, 120],\n",
    "#                               'LR__penalty': ['l1', 'l2'],\n",
    "#                               'LR__C': np.linspace(0.05, 0.25, 15),\n",
    "#                               'LR__tol': [1/80, 0.01, 0.05, 1e-3, 1e-4, 1e-5, 1e-6], \n",
    "#                               #'LR__max_iter': [100, 150]\n",
    "#                              }, cv=5)\n",
    "# LR.fit(X_train, y_train)\n",
    "# print(\"Best Parameters:\", LR.best_params_)\n",
    "# print(\"Accuracy on Training Set:\", LR.best_score_)\n",
    "\n",
    "# y_pred_prob = LR.predict_proba(X_test)[:,1]\n",
    "# print(\"Accuracy on Test Set:\", LR.score(X_test, y_test))\n",
    "# print(\"AUC:\", roc_auc_score(y_test, y_pred_prob))"
   ]
  },
  {
   "cell_type": "code",
   "execution_count": 50,
   "metadata": {},
   "outputs": [],
   "source": [
    "# np.linspace(0.05, 0.25, 15)"
   ]
  },
  {
   "cell_type": "markdown",
   "metadata": {},
   "source": [
    "Based on iterative parameter tuning, the three best models that have potential to generate high accuracy and AUC are linear SVM with L2 penalty, SVM with kernel, and logistic regression."
   ]
  },
  {
   "cell_type": "markdown",
   "metadata": {},
   "source": [
    "### ROC Curve\n",
    "Here only the top three best models are focused."
   ]
  },
  {
   "cell_type": "code",
   "execution_count": 51,
   "metadata": {},
   "outputs": [],
   "source": [
    "from sklearn.metrics import roc_curve\n",
    "from sklearn.metrics import classification_report"
   ]
  },
  {
   "cell_type": "code",
   "execution_count": 72,
   "metadata": {},
   "outputs": [
    {
     "data": {
      "image/png": "[encoded data removed]",
      "text/plain": [
       "<matplotlib.figure.Figure at 0x224d1384ac8>"
      ]
     },
     "metadata": {
      "needs_background": "light"
     },
     "output_type": "display_data"
    }
   ],
   "source": [
    "y_pred_prob_lr = LR.predict_proba(X_test)[:,1]\n",
    "y_pred_prob_lsvm = SVM2.predict_proba(X_test)[:,1]\n",
    "y_pred_prob_svm = SVM.predict_proba(X_test)[:,1]\n",
    "fpr_lr, tpr_lr, thresholds_lr = roc_curve(y_test, y_pred_prob_lr)\n",
    "fpr_lsvm, tpr_lsvm, thresholds_lsvm = roc_curve(y_test, y_pred_prob_lsvm)\n",
    "fpr_svm, tpr_svm, thresholds_svm = roc_curve(y_test, y_pred_prob_svm)\n",
    "plt.plot([0,1], [0,1], 'k--')\n",
    "plt.plot(fpr_lr, tpr_lr, alpha=0.5, label='Logistic Regression')\n",
    "plt.plot(fpr_lsvm, tpr_lsvm, alpha=0.5, label='Support Vector Machine - Linear')\n",
    "plt.plot(fpr_svm, tpr_svm, alpha=0.5, label='Support Vector Machine - Kernel')\n",
    "plt.legend()\n",
    "plt.show()"
   ]
  },
  {
   "cell_type": "markdown",
   "metadata": {},
   "source": [
    "The three models have roughly the same area under ROC curve."
   ]
  },
  {
   "cell_type": "markdown",
   "metadata": {},
   "source": [
    "### Change Threshold"
   ]
  },
  {
   "cell_type": "code",
   "execution_count": 62,
   "metadata": {},
   "outputs": [
    {
     "name": "stdout",
     "output_type": "stream",
     "text": [
      "Logistic Regression\n",
      "Threshold: 0.4, Accuracy: 0.8627450980392157\n",
      "Threshold: 0.45, Accuracy: 0.8823529411764706\n",
      "Threshold: 0.5, Accuracy: 0.8627450980392157\n",
      "Threshold: 0.55, Accuracy: 0.8235294117647058\n",
      "Threshold: 0.6, Accuracy: 0.8235294117647058\n"
     ]
    }
   ],
   "source": [
    "print(\"Logistic Regression\")\n",
    "for t in [0.4, 0.45, 0.5, 0.55, 0.6]:\n",
    "    y_pred_rev = [1 if i > t else 0 for i in y_pred_prob_lr]\n",
    "    print('Threshold: {}, Accuracy: {}'.format(t, accuracy_score(y_pred_rev, y_test)))"
   ]
  },
  {
   "cell_type": "code",
   "execution_count": 63,
   "metadata": {},
   "outputs": [
    {
     "name": "stdout",
     "output_type": "stream",
     "text": [
      "Support Vector Machine - Linear\n",
      "Threshold: 0.4, Accuracy: 0.8823529411764706\n",
      "Threshold: 0.45, Accuracy: 0.9019607843137255\n",
      "Threshold: 0.5, Accuracy: 0.8823529411764706\n",
      "Threshold: 0.55, Accuracy: 0.8823529411764706\n",
      "Threshold: 0.6, Accuracy: 0.8627450980392157\n"
     ]
    }
   ],
   "source": [
    "print(\"Support Vector Machine - Linear\")\n",
    "for t in [0.4, 0.45, 0.5, 0.55, 0.6]:\n",
    "    y_pred_rev = [1 if i > t else 0 for i in y_pred_prob_lsvm]\n",
    "    print('Threshold: {}, Accuracy: {}'.format(t, accuracy_score(y_pred_rev, y_test)))"
   ]
  },
  {
   "cell_type": "markdown",
   "metadata": {},
   "source": [
    "Lowering the threshold of logistic regression and linear SVM, we can improve the accuracy for around 0.02 respectively."
   ]
  },
  {
   "cell_type": "code",
   "execution_count": 64,
   "metadata": {},
   "outputs": [
    {
     "name": "stdout",
     "output_type": "stream",
     "text": [
      "Support Vector Machine - Kernel\n",
      "Threshold: 0.4, Accuracy: 0.8823529411764706\n",
      "Threshold: 0.45, Accuracy: 0.8823529411764706\n",
      "Threshold: 0.5, Accuracy: 0.8823529411764706\n",
      "Threshold: 0.55, Accuracy: 0.8823529411764706\n",
      "Threshold: 0.6, Accuracy: 0.8627450980392157\n"
     ]
    }
   ],
   "source": [
    "print(\"Support Vector Machine - Kernel\")\n",
    "for t in [0.4, 0.45, 0.5, 0.55, 0.6]:\n",
    "    y_pred_rev = [1 if i > t else 0 for i in y_pred_prob_svm]\n",
    "    print('Threshold: {}, Accuracy: {}'.format(t, accuracy_score(y_pred_rev, y_test)))"
   ]
  },
  {
   "cell_type": "markdown",
   "metadata": {},
   "source": [
    "Changing threshold doesn't help improve the accuracy of SVM with kernel."
   ]
  },
  {
   "cell_type": "markdown",
   "metadata": {},
   "source": [
    "### Classification Report"
   ]
  },
  {
   "cell_type": "code",
   "execution_count": 65,
   "metadata": {
    "scrolled": true
   },
   "outputs": [
    {
     "name": "stdout",
     "output_type": "stream",
     "text": [
      "Logistic Regression:\n",
      "             precision    recall  f1-score   support\n",
      "\n",
      "          0       0.82      0.69      0.75        13\n",
      "          1       0.90      0.95      0.92        38\n",
      "\n",
      "avg / total       0.88      0.88      0.88        51\n",
      "\n",
      "AUC: 0.888663967611336\n"
     ]
    }
   ],
   "source": [
    "print(\"Logistic Regression:\")\n",
    "y_pred_rev = [1 if i > 0.45 else 0 for i in y_pred_prob_lr]\n",
    "print(classification_report(y_test, y_pred_rev))\n",
    "print(\"AUC: {}\".format(roc_auc_score(y_test, y_pred_prob_lr)))"
   ]
  },
  {
   "cell_type": "code",
   "execution_count": 67,
   "metadata": {},
   "outputs": [
    {
     "name": "stdout",
     "output_type": "stream",
     "text": [
      "upport Vector Machine - Linear:\n",
      "             precision    recall  f1-score   support\n",
      "\n",
      "          0       0.90      0.69      0.78        13\n",
      "          1       0.90      0.97      0.94        38\n",
      "\n",
      "avg / total       0.90      0.90      0.90        51\n",
      "\n",
      "AUC: 0.9048582995951417\n"
     ]
    }
   ],
   "source": [
    "print(\"Support Vector Machine - Linear:\")\n",
    "y_pred_rev = [1 if i > 0.45 else 0 for i in y_pred_prob_lsvm]\n",
    "print(classification_report(y_test, y_pred_rev))\n",
    "print(\"AUC: {}\".format(roc_auc_score(y_test, y_pred_prob_lsvm)))"
   ]
  },
  {
   "cell_type": "code",
   "execution_count": 68,
   "metadata": {},
   "outputs": [
    {
     "name": "stdout",
     "output_type": "stream",
     "text": [
      "Support Vector Machine - Kernel:\n",
      "             precision    recall  f1-score   support\n",
      "\n",
      "          0       0.82      0.69      0.75        13\n",
      "          1       0.90      0.95      0.92        38\n",
      "\n",
      "avg / total       0.88      0.88      0.88        51\n",
      "\n",
      "AUC: 0.8825910931174088\n"
     ]
    }
   ],
   "source": [
    "print(\"Support Vector Machine - Kernel:\")\n",
    "print(classification_report(y_test, SVM.predict(X_test)))\n",
    "print(\"AUC: {}\".format(roc_auc_score(y_test, y_pred_prob_svm)))"
   ]
  },
  {
   "cell_type": "markdown",
   "metadata": {},
   "source": [
    "### Best Model\n",
    "The Best model is the pipeline that combines min-max normalization, PCA, and linear SVM with L2 penalty. The best parameters of PCA and linear SVM is as below. After applying the following model and lower the threshold to 0.45 for prediction, we get the accuracy of 0.902 and AUC of 0.905."
   ]
  },
  {
   "cell_type": "code",
   "execution_count": 69,
   "metadata": {},
   "outputs": [
    {
     "data": {
      "text/plain": [
       "{'PCA__n_components': 80, 'SVC__C': 0.1, 'SVC__tol': 0.0001}"
      ]
     },
     "execution_count": 69,
     "metadata": {},
     "output_type": "execute_result"
    }
   ],
   "source": [
    "# {'PCA__n_components': 80, 'SVC__C': 0.1, 'SVC__tol': 0.0001}\n",
    "SVM2.best_params_"
   ]
  },
  {
   "cell_type": "code",
   "execution_count": 71,
   "metadata": {},
   "outputs": [
    {
     "name": "stdout",
     "output_type": "stream",
     "text": [
      "{'SVC__max_iter': 500, 'PCA__n_components': 80, 'SVC__tol': 0.001, 'SVC__gamma': 0.01, 'SVC__C': 10}\n",
      "{'LR__C': 0.1, 'PCA__n_components': 100, 'LR__tol': 0.001, 'LR__penalty': 'l2'}\n"
     ]
    }
   ],
   "source": [
    "# Second best models\n",
    "# {'SVC__max_iter': 500, 'PCA__n_components': 80, 'SVC__tol': 0.001, 'SVC__gamma': 0.01, 'SVC__C': 10}\n",
    "print(SVM.best_params_)\n",
    "# {'LR__C': 0.1, 'PCA__n_components': 100, 'LR__tol': 0.001, 'LR__penalty': 'l2'}\n",
    "print(LR.best_params_)"
   ]
  },
  {
   "cell_type": "markdown",
   "metadata": {},
   "source": [
    "## V. Appendix"
   ]
  },
  {
   "cell_type": "markdown",
   "metadata": {},
   "source": [
    "### Appendix A: Concepts for Logistic Regression:\n",
    "\n",
    "#### A1. Binay Classification Type\n",
    "Input $x_i \\in \\mathbb{R}^b$ and output $y_i \\in {\\pm1}$\n",
    "\n",
    "we define a $\\textit{classifier f}$, which makes prediction $y_i = f(x_i, \\Theta)$ based on a function of $x_i$ and parameters $\\Theta$. In other words $f: \\mathbb{R}^d \\rightarrow {-1, +1}$\n",
    "\n",
    "In **Bayes classificaiton** framework, $\\Theta$ contains:\n",
    "1.  class prior probabilities on $y$,\n",
    "2. parameters for calss-dependent distribution on $x$.\n",
    "\n",
    "In **linear classification** framework, the prediction is linear in the parameters $\\Theta$.\n",
    "\n",
    "**Bayes classification** and **linear classification** are connected through ***log odds***.\n",
    "\n",
    "#### A2. Log Odds\n",
    "With Bayes classifier, we declare class $y=1$ if\n",
    "$$ p(x|y = 1)P(y = 1) > p(x|y = 0)P(y = 0) $$\n",
    "\n",
    "$$ \\Updownarrow $$\n",
    "\n",
    "$$ \\ln\\frac{p(x|y = 1)P(y = 1)}{p(x|y = 0)P(y = 0)} > 0 $$\n",
    "\n",
    "The second line is referred to as the $\\textit{log odds}$.\n",
    "\n",
    "#### A3. Lineaer Discriminant Analysis\n",
    "In the case where $p(x|y) = N(x| \\mu_y, \\Sigma)$ **(a single Gaussian with a shared covariance matrix)**\n",
    "\n",
    "$$ \\ln\\frac{p(x|y = 1)P(y = 1)}{p(x|y = 0)P(y = 0)} =\n",
    "\\ln\\frac{\\pi_1}{\\pi_0} - \\frac{1}{2}(\\mu_0 + \\mu_1)^T\\Sigma^{-1}(\\mu_1 - \\mu_0) + x^T\\Sigma^{-1}(\\mu_1 - \\mu_0)$$\n",
    "\n",
    "This is also called ***lineaer discriminant analysis*** (used to be called LDA).\n",
    "\n",
    "So we ca write the decision rule for the Bayes classifer as a linear one:\n",
    "$$ f(x) = sign(x^Tw + w_0) $$\n",
    "where\n",
    "\n",
    "$$ w_0 = \\ln\\frac{\\pi_1}{\\pi_0} - \\frac{1}{2}(\\mu_0 + \\mu_1)^T\\Sigma^{-1}(\\mu_1 - \\mu_0) $$\n",
    "$$ w = \\Sigma^{-1}(\\mu_1 - \\mu_0) $$\n",
    "\n",
    "This Bayes classifier is one instance of a linear classifier.\n",
    "\n",
    "Setting $w_0$ and $w$ this way may be too restrictive - it assumes single Gaussian with shared covariance. If we relax what values $w_0$ and $w$ can take we can do better. "
   ]
  },
  {
   "cell_type": "markdown",
   "metadata": {},
   "source": [
    "### Appendix B: Linear Classifiers\n",
    "\n",
    "#### B1. Definition\n",
    "A $\\textit{binary linear classifier}$ is a function of the form\n",
    "$$f(x) = sing(X^Tw + w_0),$$\n",
    "where $w \\in \\mathbb{R}^d$ and $w_0 \\in \\mathbb{R}$. Since the goal is to learn $w, w_0$ from the data, we are assuming that $\\textit{linear separability}$ in $x$ is an accurate property of the classes.\n",
    "\n",
    "#### B2. Linear Separability\n",
    "Two sets $A, B \\subset \\mathbb{R}^d$ arfe called linearly separable if\n",
    "\n",
    "$$x^Tw + w_0 > 0 \\ \\ if \\ \\ x \\in A (e.g, class +1)$$\n",
    "$$x^Tw + w_0 < 0 \\ \\ if \\ \\ x \\in B (e.g, class -1)$$\n",
    "\n",
    "The pair $(w, w_0)$ defines an $\\textit{affine hyperplane}$. It is important to develop the right geometric understanding about what this is doing.\n",
    "\n",
    "#### B3. Two methods:\n",
    "\n",
    "- **Least squares:** One simple idea is to treat classification as a regression problem. However, using regression for classification problem is not robust because it's sensitive to outliers\n",
    "- **Perceptron:** The perceptron represents a first attempt at linear classification by directly learning the hyper plane defined by $w$. It is not used as much anymore because of some drawbacks: convergence issues and the assumption on linear seperability."
   ]
  },
  {
   "cell_type": "markdown",
   "metadata": {},
   "source": [
    "## References for Model Introduction and Algorithms\n",
    "- Applied Machine Learning Certification - Columnbia Engineering Executive Education\n",
    "- Post Graduate Diploma of Applied Machine Learning and Artificial Intelligence - Columnbia Engineering Executive Education\n",
    "\n",
    "#### Note: The coding was done through personal works and researches and not borrowed from the certification course."
   ]
  }
 ],
 "metadata": {
  "kernelspec": {
   "display_name": "Python 3",
   "language": "python",
   "name": "python3"
  },
  "language_info": {
   "codemirror_mode": {
    "name": "ipython",
    "version": 3
   },
   "file_extension": ".py",
   "mimetype": "text/x-python",
   "name": "python",
   "nbconvert_exporter": "python",
   "pygments_lexer": "ipython3",
   "version": "3.8.7"
  }
 },
 "nbformat": 4,
 "nbformat_minor": 2
}
